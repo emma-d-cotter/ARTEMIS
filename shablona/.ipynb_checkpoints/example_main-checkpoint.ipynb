{
 "cells": [
  {
   "cell_type": "code",
   "execution_count": 1,
   "metadata": {
    "collapsed": false
   },
   "outputs": [],
   "source": [
    "import targets as targets\n",
    "import classification as classif\n",
    "import stage as stage\n",
    "import rules as rules\n",
    "import comms as comms\n",
    "import processor as processor\n",
    "import datetime"
   ]
  },
  {
   "cell_type": "code",
   "execution_count": 2,
   "metadata": {
    "collapsed": false
   },
   "outputs": [],
   "source": [
    "ts = targets.TargetSpace()"
   ]
  },
  {
   "cell_type": "code",
   "execution_count": 3,
   "metadata": {
    "collapsed": false
   },
   "outputs": [],
   "source": [
    "bc = classif.BackgroundClassifier()\n",
    "rnc = classif.RadiusNeighborsClassifier(classif.classification_weights, ts, outliers=bc)"
   ]
  },
  {
   "cell_type": "code",
   "execution_count": 4,
   "metadata": {
    "collapsed": false
   },
   "outputs": [],
   "source": [
    "send_triggers = rules.SendTriggers()"
   ]
  },
  {
   "cell_type": "code",
   "execution_count": 5,
   "metadata": {
    "collapsed": false
   },
   "outputs": [],
   "source": [
    "classification_processor = processor.ClassificationProcessor(rnc, ts, send_triggers, True)"
   ]
  },
  {
   "cell_type": "code",
   "execution_count": 6,
   "metadata": {
    "collapsed": false
   },
   "outputs": [],
   "source": [
    "stage_instance = stage.Stage(classification_processor, ts, send_triggers)"
   ]
  },
  {
   "cell_type": "code",
   "execution_count": 7,
   "metadata": {
    "collapsed": false
   },
   "outputs": [],
   "source": [
    "comms_instance = comms.InstrumentComms(stage_instance, True)"
   ]
  },
  {
   "cell_type": "code",
   "execution_count": 16,
   "metadata": {
    "collapsed": false
   },
   "outputs": [
    {
     "name": "stderr",
     "output_type": "stream",
     "text": [
      "Exception in thread Thread-5:\n",
      "Traceback (most recent call last):\n",
      "  File \"C:\\Users\\Emma\\Anaconda3\\lib\\threading.py\", line 914, in _bootstrap_inner\n",
      "    self.run()\n",
      "  File \"C:\\Users\\Emma\\Anaconda3\\lib\\threading.py\", line 862, in run\n",
      "    self._target(*self._args, **self._kwargs)\n",
      "  File \"C:\\Users\\Emma\\documents\\NNMREC\\amp interface\\data-science-incubator\\smallish\\shablona\\processor.py\", line 43, in threadFunctions\n",
      "    self.fitClassificationsAndTriggerRules()\n",
      "  File \"C:\\Users\\Emma\\documents\\NNMREC\\amp interface\\data-science-incubator\\smallish\\shablona\\processor.py\", line 94, in fitClassificationsAndTriggerRules\n",
      "    self.send_triggers.check_saving_rules(target, classification)\n",
      "  File \"C:\\Users\\Emma\\documents\\NNMREC\\amp interface\\data-science-incubator\\smallish\\shablona\\rules.py\", line 84, in check_saving_rules\n",
      "    self.trigger_status['unsent_trigs'][inst].append(datetime.utcnow())\n",
      "KeyError: 'M3'\n",
      "\n"
     ]
    }
   ],
   "source": [
    "#For testing, uncomment 'while True' in stage.Stage.processEligibleStagedData()\n",
    "stage_instance.processEligibleStagedData()"
   ]
  },
  {
   "cell_type": "code",
   "execution_count": null,
   "metadata": {
    "collapsed": true
   },
   "outputs": [],
   "source": []
  },
  {
   "cell_type": "code",
   "execution_count": 9,
   "metadata": {
    "collapsed": false
   },
   "outputs": [],
   "source": [
    "#For testing\n",
    "#stage_instance.recent_targets"
   ]
  },
  {
   "cell_type": "code",
   "execution_count": 10,
   "metadata": {
    "collapsed": false
   },
   "outputs": [
    {
     "data": {
      "text/plain": [
       "[[0.3333333333333333, 0.4, 0.75, 0.02666666666666667, 0.25, 1.75],\n",
       " [2.3333333333333335,\n",
       "  1.2,\n",
       "  1.25,\n",
       "  0.02666666666666667,\n",
       "  0.08333333333333333,\n",
       "  1.25],\n",
       " [0.5, 0.4, 0.75, 0.02666666666666667, 0.25, 1.75],\n",
       " [2.3333333333333335,\n",
       "  1.2,\n",
       "  1.25,\n",
       "  0.02666666666666667,\n",
       "  0.08333333333333333,\n",
       "  1.25],\n",
       " [2.3333333333333335,\n",
       "  1.2,\n",
       "  1.25,\n",
       "  0.02666666666666667,\n",
       "  0.09166666666666667,\n",
       "  1.275],\n",
       " [2.3333333333333335,\n",
       "  1.2,\n",
       "  1.25,\n",
       "  0.02666666666666667,\n",
       "  0.08750000000000001,\n",
       "  1.25],\n",
       " [0.5, 0.44000000000000006, 0.775, 0.02666666666666667, 0.25, 1.75],\n",
       " [0.5, 0.4, 0.75, 0.02666666666666667, 0.20833333333333334, 1.75]]"
      ]
     },
     "execution_count": 10,
     "metadata": {},
     "output_type": "execute_result"
    }
   ],
   "source": [
    "ts.tables['classifier_features']"
   ]
  },
  {
   "cell_type": "code",
   "execution_count": 11,
   "metadata": {
    "collapsed": true
   },
   "outputs": [],
   "source": [
    "import numpy as np"
   ]
  },
  {
   "cell_type": "code",
   "execution_count": 12,
   "metadata": {
    "collapsed": false
   },
   "outputs": [
    {
     "name": "stdout",
     "output_type": "stream",
     "text": [
      "1\n",
      "2\n",
      "3\n"
     ]
    }
   ],
   "source": [
    "a = np.array([1,2,3])\n",
    "for i, val in enumerate(np.squeeze(a).tolist()):\n",
    "    print(val)"
   ]
  },
  {
   "cell_type": "code",
   "execution_count": 13,
   "metadata": {
    "collapsed": false
   },
   "outputs": [
    {
     "data": {
      "text/plain": [
       "array([1, 2, 3])"
      ]
     },
     "execution_count": 13,
     "metadata": {},
     "output_type": "execute_result"
    }
   ],
   "source": [
    "a"
   ]
  },
  {
   "cell_type": "code",
   "execution_count": 14,
   "metadata": {
    "collapsed": false
   },
   "outputs": [
    {
     "name": "stdout",
     "output_type": "stream",
     "text": [
      "[1 2 3]\n"
     ]
    }
   ],
   "source": [
    "print(a)"
   ]
  },
  {
   "cell_type": "code",
   "execution_count": null,
   "metadata": {
    "collapsed": false
   },
   "outputs": [],
   "source": []
  },
  {
   "cell_type": "code",
   "execution_count": null,
   "metadata": {
    "collapsed": true
   },
   "outputs": [],
   "source": []
  },
  {
   "cell_type": "code",
   "execution_count": null,
   "metadata": {
    "collapsed": true
   },
   "outputs": [],
   "source": []
  }
 ],
 "metadata": {
  "kernelspec": {
   "display_name": "Python 3",
   "language": "python",
   "name": "python3"
  },
  "language_info": {
   "codemirror_mode": {
    "name": "ipython",
    "version": 3
   },
   "file_extension": ".py",
   "mimetype": "text/x-python",
   "name": "python",
   "nbconvert_exporter": "python",
   "pygments_lexer": "ipython3",
   "version": "3.5.1"
  }
 },
 "nbformat": 4,
 "nbformat_minor": 0
}
