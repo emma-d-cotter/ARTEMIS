{
 "cells": [
  {
   "cell_type": "code",
   "execution_count": 2,
   "metadata": {
    "collapsed": false
   },
   "outputs": [],
   "source": [
    "import datetime\n",
    "import shablona.rules as rules\n",
    "import time"
   ]
  },
  {
   "cell_type": "code",
   "execution_count": 3,
   "metadata": {
    "collapsed": false
   },
   "outputs": [],
   "source": [
    "trigger_handler = rules.SendTriggers()"
   ]
  },
  {
   "cell_type": "code",
   "execution_count": 4,
   "metadata": {
    "collapsed": false
   },
   "outputs": [],
   "source": [
    "trigger_handler.trigger_status['unsent_trigs'] = {'adcp': [],\n",
    "  'blueview': [],\n",
    "  'camera': [],\n",
    "  'hydrophones': [],\n",
    "  'm3': [datetime.datetime.utcnow()]}\n"
   ]
  },
  {
   "cell_type": "code",
   "execution_count": 5,
   "metadata": {
    "collapsed": false
   },
   "outputs": [
    {
     "name": "stdout",
     "output_type": "stream",
     "text": [
      "send 1: \n",
      "1.160832  seconds since last  m3  detection\n",
      "510366368.035457  seconds since last  m3  trigger sent\n",
      "send 2: \n",
      "11.16228  seconds since last  m3  detection\n",
      "510366378.036905  seconds since last  m3  trigger sent\n",
      "sending triggers for  ['m3']\n",
      "send 3: \n"
     ]
    }
   ],
   "source": [
    "print('send 1: ')\n",
    "trigger_handler.send_triggers_if_ready()\n",
    "time.sleep(10)\n",
    "\n",
    "print('send 2: ')\n",
    "trigger_handler.send_triggers_if_ready()\n",
    "\n",
    "print('send 3: ')\n",
    "trigger_handler.send_triggers_if_ready()"
   ]
  },
  {
   "cell_type": "code",
   "execution_count": null,
   "metadata": {
    "collapsed": true
   },
   "outputs": [],
   "source": []
  }
 ],
 "metadata": {
  "kernelspec": {
   "display_name": "Python 3",
   "language": "python",
   "name": "python3"
  },
  "language_info": {
   "codemirror_mode": {
    "name": "ipython",
    "version": 3
   },
   "file_extension": ".py",
   "mimetype": "text/x-python",
   "name": "python",
   "nbconvert_exporter": "python",
   "pygments_lexer": "ipython3",
   "version": "3.5.1"
  }
 },
 "nbformat": 4,
 "nbformat_minor": 0
}
