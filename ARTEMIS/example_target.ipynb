{
 "cells": [
  {
   "cell_type": "code",
   "execution_count": 3,
   "metadata": {
    "collapsed": false
   },
   "outputs": [],
   "source": [
    "import targets as targets\n",
    "import classification as classif\n",
    "import stage as stage\n",
    "import rules as rules\n",
    "import comms as comms\n",
    "import datetime"
   ]
  },
  {
   "cell_type": "code",
   "execution_count": 4,
   "metadata": {
    "collapsed": true
   },
   "outputs": [],
   "source": [
    "ts = targets.TargetSpace()"
   ]
  },
  {
   "cell_type": "code",
   "execution_count": 5,
   "metadata": {
    "collapsed": true
   },
   "outputs": [],
   "source": [
    "ts.tables = {'adcp': [[datetime.datetime(2016, 3, 8, 23, 47, 16, 600000),1.2,4.5],\n",
    "  [datetime.datetime(2016, 3, 8, 23, 47, 16, 600000),5.6,2.5]],\n",
    " 'camera': [],\n",
    " 'classifier_classifications': [1],\n",
    " 'classifier_features': [],\n",
    " 'nims': [[datetime.datetime(2016, 3, 8, 23, 47, 16, 606170),\n",
    "   213,\n",
    "   1225,\n",
    "   26648,\n",
    "   3.255762865359059,\n",
    "   1.009538904487781,\n",
    "   0.33651296816259363,\n",
    "   0.3397229332247963,\n",
    "   1,\n",
    "   0,\n",
    "   0,\n",
    "   120,\n",
    "   50,\n",
    "   81.59374223255094,\n",
    "   38.3912730413624,\n",
    "   None],\n",
    "  [datetime.datetime(2016, 3, 8, 23, 47, 16, 606170),\n",
    "   221,\n",
    "   764,\n",
    "   27109,\n",
    "   2.6585455797134,\n",
    "   0.9990226307834469,\n",
    "   0.3330075435944823,\n",
    "   0.3326820722724931,\n",
    "   4.749735623188873e-05,\n",
    "   0,\n",
    "   0,\n",
    "   120,\n",
    "   50,\n",
    "   46.89115349587096,\n",
    "   36.90071673015692,\n",
    "   None],\n",
    "  [datetime.datetime(2016, 3, 8, 23, 47, 16, 606170),\n",
    "   230,\n",
    "   662,\n",
    "   27211,\n",
    "   -1.4252885390060634,\n",
    "   3.144248887280707,\n",
    "   1.0480829624269024,\n",
    "   3.2954336883886546,\n",
    "   1,\n",
    "   0,\n",
    "   0,\n",
    "   120,\n",
    "   50,\n",
    "   64.45498648235723,\n",
    "   45.6643834242734,\n",
    "   None],\n",
    "  [datetime.datetime(2016, 3, 8, 23, 47, 16, 606170),\n",
    "   232,\n",
    "   532,\n",
    "   27341,\n",
    "   2.890572359393626,\n",
    "   3.632297183140556,\n",
    "   1.2107657277135186,\n",
    "   4.397860942216939,\n",
    "   1,\n",
    "   0,\n",
    "   0,\n",
    "   120,\n",
    "   50,\n",
    "   62.32347596039271,\n",
    "   36.98009428240289,\n",
    "   None],\n",
    "  [datetime.datetime(2016, 3, 8, 23, 47, 16, 606170),\n",
    "   233,\n",
    "   243,\n",
    "   27630,\n",
    "   0.765336539780397,\n",
    "   2.0736340537675213,\n",
    "   0.6912113512558404,\n",
    "   1.4333193963147746,\n",
    "   0.006207837847612895,\n",
    "   0,\n",
    "   0,\n",
    "   120,\n",
    "   50,\n",
    "   49.21580297831671,\n",
    "   23.907033796827886,\n",
    "   None],\n",
    "  [datetime.datetime(2016, 3, 8, 23, 47, 16, 880554),\n",
    "   213,\n",
    "   1226,\n",
    "   26648,\n",
    "   3.327882881606094,\n",
    "   1.009538904487781,\n",
    "   0.33651296816259363,\n",
    "   0.3397229332247963,\n",
    "   0.04768479173654866,\n",
    "   0,\n",
    "   0,\n",
    "   120,\n",
    "   50,\n",
    "   82.17312165722745,\n",
    "   38.70562258528113,\n",
    "   None],\n",
    "  [datetime.datetime(2016, 3, 8, 23, 47, 16, 880554),\n",
    "   221,\n",
    "   765,\n",
    "   27109,\n",
    "   2.561834802661609,\n",
    "   0.9990226307834469,\n",
    "   0.3330075435944823,\n",
    "   0.3326820722724931,\n",
    "   4.2568959617736036e-06,\n",
    "   0,\n",
    "   0,\n",
    "   120,\n",
    "   50,\n",
    "   46.89112643708125,\n",
    "   36.90070054109199,\n",
    "   None],\n",
    "  [datetime.datetime(2016, 3, 8, 23, 47, 16, 880554),\n",
    "   230,\n",
    "   663,\n",
    "   27211,\n",
    "   -1.347039165042165,\n",
    "   3.144248887280707,\n",
    "   1.0480829624269024,\n",
    "   3.2954336883886546,\n",
    "   1,\n",
    "   0,\n",
    "   0,\n",
    "   120,\n",
    "   50,\n",
    "   65.05607597023428,\n",
    "   45.51592097830661,\n",
    "   None],\n",
    "  [datetime.datetime(2016, 3, 8, 23, 47, 16, 880554),\n",
    "   232,\n",
    "   533,\n",
    "   27341,\n",
    "   2.844387888261456,\n",
    "   3.632297183140556,\n",
    "   1.2107657277135186,\n",
    "   4.397860942216939,\n",
    "   0.06967176481633819,\n",
    "   0,\n",
    "   0,\n",
    "   120,\n",
    "   50,\n",
    "   61.548294381352996,\n",
    "   36.95444344388781,\n",
    "   None],\n",
    "  [datetime.datetime(2016, 3, 8, 23, 47, 16, 880554),\n",
    "   233,\n",
    "   244,\n",
    "   27630,\n",
    "   0.7439338175799398,\n",
    "   2.0736340537675213,\n",
    "   0.6912113512558404,\n",
    "   1.4333193963147746,\n",
    "   1,\n",
    "   0,\n",
    "   0,\n",
    "   120,\n",
    "   50,\n",
    "   49.22192287980031,\n",
    "   23.90526033283612,\n",
    "   None],\n",
    " [datetime.datetime(2016, 3, 8, 23, 47, 16, 880554),\n",
    "    218,\n",
    "    244,\n",
    "    27630,\n",
    "    0.7439338175799398,\n",
    "    2.0736340537675213,\n",
    "    0.6912113512558404,\n",
    "    1.4333193963147746,\n",
    "    1,\n",
    "    0,\n",
    "    0,\n",
    "    120,\n",
    "    50,\n",
    "    49.22192287980031,\n",
    "    23.90526033283612,\n",
    "    [0,5]]],\n",
    " 'pamguard': [datetime.datetime(2016, 3, 8, 23, 47, 16, 800000),\"Dolphin\"]}"
   ]
  },
  {
   "cell_type": "code",
   "execution_count": 6,
   "metadata": {
    "collapsed": true
   },
   "outputs": [],
   "source": [
    "target1 = targets.Target(target_space=ts,\n",
    "                          source=\"MSL_auto\",\n",
    "                          date=datetime.datetime(2016, 3, 8, 23, 47, 16, 880554),\n",
    "                          indices={'nims': 10, 'adcp': 0, 'classifier_features':[], 'classifier_classifications':0})"
   ]
  },
  {
   "cell_type": "code",
   "execution_count": 6,
   "metadata": {
    "collapsed": false
   },
   "outputs": [
    {
     "data": {
      "text/plain": [
       "{'aggregate_indices': [0, 5],\n",
       " 'first_ping': 27630,\n",
       " 'height': 0.6912113512558404,\n",
       " 'id': 218,\n",
       " 'last_pos_angle': 49.22192287980031,\n",
       " 'last_pos_range': 23.90526033283612,\n",
       " 'max_angle_m': 120,\n",
       " 'max_range_m': 50,\n",
       " 'min_angle_m': 0,\n",
       " 'min_range_m': 0,\n",
       " 'pings_visible': 244,\n",
       " 'size_sq_m': 1.4333193963147746,\n",
       " 'speed_mps': 1,\n",
       " 'target_strength': 0.7439338175799398,\n",
       " 'timestamp': datetime.datetime(2016, 3, 8, 23, 47, 16, 880554),\n",
       " 'width': 2.0736340537675213}"
      ]
     },
     "execution_count": 6,
     "metadata": {},
     "output_type": "execute_result"
    }
   ],
   "source": [
    "target1.get_entry('nims')"
   ]
  },
  {
   "cell_type": "code",
   "execution_count": 7,
   "metadata": {
    "collapsed": false
   },
   "outputs": [
    {
     "data": {
      "text/plain": [
       "{'heading': 4.5,\n",
       " 'speed': 1.2,\n",
       " 'timestamp': datetime.datetime(2016, 3, 8, 23, 47, 16, 600000)}"
      ]
     },
     "execution_count": 7,
     "metadata": {},
     "output_type": "execute_result"
    }
   ],
   "source": [
    "target1.get_entry('adcp')"
   ]
  },
  {
   "cell_type": "code",
   "execution_count": 8,
   "metadata": {
    "collapsed": true
   },
   "outputs": [],
   "source": [
    "target1.get_entry('pamguard')"
   ]
  },
  {
   "cell_type": "code",
   "execution_count": null,
   "metadata": {
    "collapsed": true
   },
   "outputs": [],
   "source": []
  }
 ],
 "metadata": {
  "kernelspec": {
   "display_name": "Python 3",
   "language": "python",
   "name": "python3"
  },
  "language_info": {
   "codemirror_mode": {
    "name": "ipython",
    "version": 3
   },
   "file_extension": ".py",
   "mimetype": "text/x-python",
   "name": "python",
   "nbconvert_exporter": "python",
   "pygments_lexer": "ipython3",
   "version": "3.5.1"
  }
 },
 "nbformat": 4,
 "nbformat_minor": 0
}
