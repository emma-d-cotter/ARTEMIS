{
 "cells": [
  {
   "cell_type": "code",
   "execution_count": 6,
   "metadata": {
    "collapsed": false
   },
   "outputs": [],
   "source": [
    "import targets as targets\n",
    "import classification as classif\n",
    "import stage as stage\n",
    "import rules as rules\n",
    "import comms as comms\n",
    "import processor as processor\n",
    "import datetime"
   ]
  },
  {
   "cell_type": "code",
   "execution_count": 7,
   "metadata": {
    "collapsed": false
   },
   "outputs": [],
   "source": [
    "ts = targets.TargetSpace()"
   ]
  },
  {
   "cell_type": "code",
   "execution_count": 8,
   "metadata": {
    "collapsed": false
   },
   "outputs": [],
   "source": [
    "bc = classif.BackgroundClassifier()\n",
    "rnc = classif.RadiusNeighborsClassifier(classif.classification_weights, ts, outliers=bc)"
   ]
  },
  {
   "cell_type": "code",
   "execution_count": 9,
   "metadata": {
    "collapsed": false
   },
   "outputs": [],
   "source": [
    "send_triggers = rules.SendTriggers()"
   ]
  },
  {
   "cell_type": "code",
   "execution_count": 10,
   "metadata": {
    "collapsed": false
   },
   "outputs": [],
   "source": [
    "classification_processor = processor.ClassificationProcessor(rnc, ts, send_triggers, True)"
   ]
  },
  {
   "cell_type": "code",
   "execution_count": 11,
   "metadata": {
    "collapsed": false
   },
   "outputs": [],
   "source": [
    "stage_instance = stage.Stage(classification_processor, ts, send_triggers)"
   ]
  },
  {
   "cell_type": "code",
   "execution_count": 12,
   "metadata": {
    "collapsed": false
   },
   "outputs": [],
   "source": [
    "comms_instance = comms.InstrumentComms(stage_instance, True)"
   ]
  },
  {
   "cell_type": "code",
   "execution_count": null,
   "metadata": {
    "collapsed": false
   },
   "outputs": [],
   "source": [
    "#For testing, uncomment 'while True' in stage.Stage.processEligibleStagedData()\n",
    "#stage_instance.processEligibleStagedData()"
   ]
  },
  {
   "cell_type": "code",
   "execution_count": null,
   "metadata": {
    "collapsed": false
   },
   "outputs": [],
   "source": [
    "#For testing\n",
    "#stage_instance.recent_targets"
   ]
  },
  {
   "cell_type": "code",
   "execution_count": null,
   "metadata": {
    "collapsed": false,
    "scrolled": true
   },
   "outputs": [],
   "source": [
    "stage_instance.processEligibleStagedData()"
   ]
  },
  {
   "cell_type": "code",
   "execution_count": 17,
   "metadata": {
    "collapsed": false
   },
   "outputs": [
    {
     "data": {
      "text/plain": [
       "{'adcp': [[datetime.datetime(2016, 5, 16, 11, 43, 5), 1.2, 4.5]],\n",
       " 'camera': [],\n",
       " 'classifier_classifications': ['1.1',\n",
       "  '1.2',\n",
       "  '1.1',\n",
       "  '1.2',\n",
       "  '1.2',\n",
       "  '1.2',\n",
       "  '1.2',\n",
       "  '1.1'],\n",
       " 'classifier_features': [[0.3333333333333333,\n",
       "   0.4,\n",
       "   0.75,\n",
       "   0.02666666666666667,\n",
       "   0.25,\n",
       "   1.75],\n",
       "  [2.3333333333333335,\n",
       "   1.2,\n",
       "   1.25,\n",
       "   0.02666666666666667,\n",
       "   0.08333333333333333,\n",
       "   1.25],\n",
       "  [0.5, 0.4, 0.75, 0.02666666666666667, 0.25, 1.75],\n",
       "  [2.3333333333333335,\n",
       "   1.2,\n",
       "   1.25,\n",
       "   0.02666666666666667,\n",
       "   0.08333333333333333,\n",
       "   1.25],\n",
       "  [2.3333333333333335,\n",
       "   1.2,\n",
       "   1.25,\n",
       "   0.02666666666666667,\n",
       "   0.09166666666666667,\n",
       "   1.275],\n",
       "  [2.3333333333333335,\n",
       "   1.2,\n",
       "   1.25,\n",
       "   0.02666666666666667,\n",
       "   0.08750000000000001,\n",
       "   1.25],\n",
       "  [0.5, 0.44000000000000006, 0.775, 0.02666666666666667, 0.25, 1.75],\n",
       "  [0.5, 0.4, 0.75, 0.02666666666666667, 0.20833333333333334, 1.75]],\n",
       " 'nims': [],\n",
       " 'pamguard': []}"
      ]
     },
     "execution_count": 17,
     "metadata": {},
     "output_type": "execute_result"
    }
   ],
   "source": [
    "stage_instance.target_space.tables"
   ]
  },
  {
   "cell_type": "code",
   "execution_count": 13,
   "metadata": {
    "collapsed": false
   },
   "outputs": [
    {
     "name": "stderr",
     "output_type": "stream",
     "text": [
      "Exception in thread Thread-6:\n",
      "Traceback (most recent call last):\n",
      "  File \"C:\\Users\\Emma\\Anaconda3\\lib\\threading.py\", line 914, in _bootstrap_inner\n",
      "    self.run()\n",
      "  File \"C:\\Users\\Emma\\Anaconda3\\lib\\threading.py\", line 862, in run\n",
      "    self._target(*self._args, **self._kwargs)\n",
      "  File \"C:\\Users\\Emma\\Documents\\NNMREC\\AMP Interface\\data-science-incubator\\ARTEMIS\\ARTEMIS\\comms_NIMS_sim.py\", line 48, in read_tracks\n",
      "    s.connect((host, port))\n",
      "ConnectionRefusedError: [WinError 10061] No connection could be made because the target machine actively refused it\n",
      "\n",
      "ERROR: An unexpected error occurred while tokenizing input\n",
      "The following traceback may be corrupted or invalid\n",
      "The error message is: ('EOF in multi-line string', (1, 27))\n",
      "\n"
     ]
    },
    {
     "ename": "OperationalError",
     "evalue": "table current_model_targets already exists",
     "output_type": "error",
     "traceback": [
      "\u001b[1;31m---------------------------------------------------------------------------\u001b[0m",
      "\u001b[1;31mOperationalError\u001b[0m                          Traceback (most recent call last)",
      "\u001b[1;32m<ipython-input-13-130fbedfaba3>\u001b[0m in \u001b[0;36m<module>\u001b[1;34m()\u001b[0m\n\u001b[0;32m      4\u001b[0m c.execute('''CREATE TABLE current_model_targets \n\u001b[0;32m      5\u001b[0m (id,size,zpeed,deltav,target_strength,current,time_of_day,passive_acoustics,\n\u001b[1;32m----> 6\u001b[1;33m source,date,classification)''')\n\u001b[0m",
      "\u001b[1;31mOperationalError\u001b[0m: table current_model_targets already exists"
     ]
    }
   ],
   "source": [
    "import sqlite3\n",
    "conn = sqlite3.connect('current_model_targets.db')\n",
    "c = conn.cursor()\n",
    "c.execute('''CREATE TABLE current_model_targets \n",
    "(id,size,zpeed,deltav,target_strength,current,time_of_day,passive_acoustics,\n",
    "source,date,classification)''')"
   ]
  },
  {
   "cell_type": "code",
   "execution_count": 14,
   "metadata": {
    "collapsed": false
   },
   "outputs": [],
   "source": [
    "from config import site_name"
   ]
  },
  {
   "cell_type": "code",
   "execution_count": 15,
   "metadata": {
    "collapsed": false
   },
   "outputs": [],
   "source": [
    "def update_classifier_database(c, stage_instance):\n",
    "    \"\"\"\n",
    "    Enter current model values into database (with cursor c)\n",
    "    \"\"\"\n",
    "    ident = [1] # deal with this\n",
    "    site = [site_name + '_auto']\n",
    "\n",
    "    entries = []\n",
    "    for i, feat_list in enumerate(stage_instance.target_space.tables['classifier_features']):\n",
    "        feats = stage_instance.target_space.tables['classifier_features'][i]\n",
    "        class_placeholder = [0]\n",
    "        date_placeholder = [0]\n",
    "        passive_placeholder = [0]\n",
    "        entry = tuple(ident + feats + passive_placeholder + site + date_placeholder + class_placeholder)\n",
    "        entries.append(entry)\n",
    "            \n",
    "    c.executemany(\"INSERT INTO current_model_targets VALUES (?,?,?,?,?,?,?,?,?,?,?)\", entries)"
   ]
  },
  {
   "cell_type": "code",
   "execution_count": 16,
   "metadata": {
    "collapsed": false
   },
   "outputs": [
    {
     "name": "stdout",
     "output_type": "stream",
     "text": [
      "[(1, 0.3333333333333333, 0.4, 0.75, 0.02666666666666667, 0.25, 1.75, 0, 'MSL_auto', 0, 0), (1, 2.3333333333333335, 1.2, 1.25, 0.02666666666666667, 0.08333333333333333, 1.25, 0, 'MSL_auto', 0, 0), (1, 0.5, 0.4, 0.75, 0.02666666666666667, 0.25, 1.75, 0, 'MSL_auto', 0, 0), (1, 2.3333333333333335, 1.2, 1.25, 0.02666666666666667, 0.08333333333333333, 1.25, 0, 'MSL_auto', 0, 0), (1, 2.3333333333333335, 1.2, 1.25, 0.02666666666666667, 0.09166666666666667, 1.275, 0, 'MSL_auto', 0, 0), (1, 2.3333333333333335, 1.2, 1.25, 0.02666666666666667, 0.08750000000000001, 1.25, 0, 'MSL_auto', 0, 0), (1, 0.5, 0.44000000000000006, 0.775, 0.02666666666666667, 0.25, 1.75, 0, 'MSL_auto', 0, 0), (1, 0.5, 0.4, 0.75, 0.02666666666666667, 0.20833333333333334, 1.75, 0, 'MSL_auto', 0, 0)]\n"
     ]
    }
   ],
   "source": [
    "update_classifier_database(c,stage_instance)"
   ]
  },
  {
   "cell_type": "code",
   "execution_count": 65,
   "metadata": {
    "collapsed": false
   },
   "outputs": [],
   "source": [
    "a = [4,2,3]"
   ]
  },
  {
   "cell_type": "code",
   "execution_count": 66,
   "metadata": {
    "collapsed": false
   },
   "outputs": [
    {
     "data": {
      "text/plain": [
       "(4, 2, 3)"
      ]
     },
     "execution_count": 66,
     "metadata": {},
     "output_type": "execute_result"
    }
   ],
   "source": [
    "tuple(a)"
   ]
  },
  {
   "cell_type": "code",
   "execution_count": 68,
   "metadata": {
    "collapsed": false
   },
   "outputs": [
    {
     "name": "stdout",
     "output_type": "stream",
     "text": [
      "0\n",
      "1\n",
      "2\n"
     ]
    }
   ],
   "source": [
    "for i,it in enumerate(a):\n",
    "    print(i)"
   ]
  },
  {
   "cell_type": "code",
   "execution_count": null,
   "metadata": {
    "collapsed": true
   },
   "outputs": [],
   "source": []
  }
 ],
 "metadata": {
  "kernelspec": {
   "display_name": "Python 3",
   "language": "python",
   "name": "python3"
  },
  "language_info": {
   "codemirror_mode": {
    "name": "ipython",
    "version": 3
   },
   "file_extension": ".py",
   "mimetype": "text/x-python",
   "name": "python",
   "nbconvert_exporter": "python",
   "pygments_lexer": "ipython3",
   "version": "3.5.1"
  }
 },
 "nbformat": 4,
 "nbformat_minor": 0
}
