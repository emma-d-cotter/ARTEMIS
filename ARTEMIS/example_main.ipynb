{
 "cells": [
  {
   "cell_type": "code",
   "execution_count": 2,
   "metadata": {
    "collapsed": false
   },
   "outputs": [],
   "source": [
    "import targets as targets\n",
    "import classification as classif\n",
    "import stage as stage\n",
    "import rules as rules\n",
    "import comms as comms\n",
    "import processor as processor\n",
    "import datetime"
   ]
  },
  {
   "cell_type": "code",
   "execution_count": 3,
   "metadata": {
    "collapsed": false
   },
   "outputs": [],
   "source": [
    "ts = targets.TargetSpace()"
   ]
  },
  {
   "cell_type": "code",
   "execution_count": 4,
   "metadata": {
    "collapsed": false
   },
   "outputs": [],
   "source": [
    "bc = classif.BackgroundClassifier()\n",
    "rnc = classif.RadiusNeighborsClassifier(classif.classification_weights, ts, outliers=bc)"
   ]
  },
  {
   "cell_type": "code",
   "execution_count": 5,
   "metadata": {
    "collapsed": false
   },
   "outputs": [],
   "source": [
    "send_triggers = rules.SendTriggers()"
   ]
  },
  {
   "cell_type": "code",
   "execution_count": 6,
   "metadata": {
    "collapsed": false
   },
   "outputs": [],
   "source": [
    "classification_processor = processor.ClassificationProcessor(rnc, ts, send_triggers, True)"
   ]
  },
  {
   "cell_type": "code",
   "execution_count": 7,
   "metadata": {
    "collapsed": false
   },
   "outputs": [],
   "source": [
    "stage_instance = stage.Stage(classification_processor, ts, send_triggers)"
   ]
  },
  {
   "cell_type": "code",
   "execution_count": 8,
   "metadata": {
    "collapsed": false
   },
   "outputs": [],
   "source": [
    "comms_instance = comms.InstrumentComms(stage_instance, True)"
   ]
  },
  {
   "cell_type": "code",
   "execution_count": 9,
   "metadata": {
    "collapsed": false
   },
   "outputs": [],
   "source": [
    "#For testing, uncomment 'while True' in stage.Stage.processEligibleStagedData()\n",
    "#stage_instance.processEligibleStagedData()"
   ]
  },
  {
   "cell_type": "code",
   "execution_count": 10,
   "metadata": {
    "collapsed": false
   },
   "outputs": [],
   "source": [
    "#For testing\n",
    "#stage_instance.recent_targets"
   ]
  },
  {
   "cell_type": "code",
   "execution_count": 11,
   "metadata": {
    "collapsed": false
   },
   "outputs": [
    {
     "name": "stdout",
     "output_type": "stream",
     "text": [
      "type(neigh_ind):  <class 'numpy.ndarray'>\n",
      "neigh_ind: [array([], dtype=int64)]\n",
      "neigh_ind.tolist(): [array([], dtype=int64)]\n",
      "Classified target <targets.Target object at 0x000002282F2AA7B8>, classification: 3\n",
      "type(neigh_ind):  <class 'numpy.ndarray'>\n",
      "neigh_ind: [array([], dtype=int64)]\n",
      "neigh_ind.tolist(): [array([], dtype=int64)]\n",
      "Classified target <targets.Target object at 0x000002282F2AA7F0>, classification: 3\n",
      "type(neigh_ind):  <class 'numpy.ndarray'>\n",
      "neigh_ind: [array([], dtype=int64)]\n",
      "neigh_ind.tolist(): [array([], dtype=int64)]\n",
      "Classified target <targets.Target object at 0x000002282F2AA710>, classification: 3\n",
      "type(neigh_ind):  <class 'numpy.ndarray'>\n",
      "neigh_ind: [array([], dtype=int64)]\n",
      "neigh_ind.tolist(): [array([], dtype=int64)]\n",
      "Classified target <targets.Target object at 0x000002282F2AA6D8>, classification: 3\n",
      "type(neigh_ind):  <class 'numpy.ndarray'>\n",
      "neigh_ind: [array([], dtype=int64)]\n",
      "neigh_ind.tolist(): [array([], dtype=int64)]\n",
      "Classified target <targets.Target object at 0x000002282F2AA780>, classification: 3\n",
      "type(neigh_ind):  <class 'numpy.ndarray'>\n",
      "neigh_ind: [array([], dtype=int64)]\n",
      "neigh_ind.tolist(): [array([], dtype=int64)]\n",
      "Classified target <targets.Target object at 0x000002282F2AA710>, classification: 3\n",
      "type(neigh_ind):  <class 'numpy.ndarray'>\n",
      "neigh_ind: [array([], dtype=int64)]\n",
      "neigh_ind.tolist(): [array([], dtype=int64)]\n",
      "Classified target <targets.Target object at 0x000002282F2AA6D8>, classification: 3\n",
      "type(neigh_ind):  <class 'numpy.ndarray'>\n",
      "neigh_ind: [array([], dtype=int64)]\n",
      "neigh_ind.tolist(): [array([], dtype=int64)]\n",
      "Classified target <targets.Target object at 0x000002282F2AA780>, classification: 3\n",
      "type(neigh_ind):  <class 'numpy.ndarray'>\n",
      "neigh_ind: [array([], dtype=int64)]\n",
      "neigh_ind.tolist(): [array([], dtype=int64)]\n",
      "Classified target <targets.Target object at 0x000002282F2AA7B8>, classification: 3\n",
      "type(neigh_ind):  <class 'numpy.ndarray'>\n",
      "neigh_ind: [array([], dtype=int64)]\n",
      "neigh_ind.tolist(): [array([], dtype=int64)]\n",
      "Classified target <targets.Target object at 0x000002282F2AA7F0>, classification: 3\n",
      "sending triggers for  ['m3', 'hydrophones']\n",
      "sent message: AAAA 0 0 0 1 1 ZZZZ\n",
      "type(neigh_ind):  <class 'numpy.ndarray'>\n",
      "neigh_ind: [array([], dtype=int64)]\n",
      "neigh_ind.tolist(): [array([], dtype=int64)]\n",
      "Classified target <targets.Target object at 0x000002282F2AA710>, classification: 3\n",
      "type(neigh_ind):  <class 'numpy.ndarray'>\n",
      "neigh_ind: [array([], dtype=int64)]\n",
      "neigh_ind.tolist(): [array([], dtype=int64)]\n",
      "Classified target <targets.Target object at 0x000002282F2AA6D8>, classification: 3\n",
      "type(neigh_ind):  <class 'numpy.ndarray'>\n",
      "neigh_ind: [array([], dtype=int64)]\n",
      "neigh_ind.tolist(): [array([], dtype=int64)]\n",
      "Classified target <targets.Target object at 0x000002282F2AA780>, classification: 3\n",
      "type(neigh_ind):  <class 'numpy.ndarray'>\n",
      "neigh_ind: [array([], dtype=int64)]\n",
      "neigh_ind.tolist(): [array([], dtype=int64)]\n",
      "Classified target <targets.Target object at 0x000002282F2AA7B8>, classification: 3\n",
      "type(neigh_ind):  <class 'numpy.ndarray'>\n",
      "neigh_ind: [array([], dtype=int64)]\n",
      "neigh_ind.tolist(): [array([], dtype=int64)]\n",
      "Classified target <targets.Target object at 0x000002282F2AA7F0>, classification: 3\n",
      "type(neigh_ind):  <class 'numpy.ndarray'>\n",
      "neigh_ind: [array([], dtype=int64)]\n",
      "neigh_ind.tolist(): [array([], dtype=int64)]\n",
      "Classified target <targets.Target object at 0x000002282F2AA7F0>, classification: 3\n",
      "type(neigh_ind):  <class 'numpy.ndarray'>\n",
      "neigh_ind: [array([], dtype=int64)]\n",
      "neigh_ind.tolist(): [array([], dtype=int64)]\n",
      "Classified target <targets.Target object at 0x000002282F2AA710>, classification: 3\n",
      "type(neigh_ind):  <class 'numpy.ndarray'>\n",
      "neigh_ind: [array([], dtype=int64)]\n",
      "neigh_ind.tolist(): [array([], dtype=int64)]\n",
      "Classified target <targets.Target object at 0x000002282F2AA6D8>, classification: 3\n",
      "type(neigh_ind):  <class 'numpy.ndarray'>\n",
      "neigh_ind: [array([], dtype=int64)]\n",
      "neigh_ind.tolist(): [array([], dtype=int64)]\n",
      "Classified target <targets.Target object at 0x000002282F2AA780>, classification: 3\n",
      "type(neigh_ind):  <class 'numpy.ndarray'>\n",
      "neigh_ind: [array([], dtype=int64)]\n",
      "neigh_ind.tolist(): [array([], dtype=int64)]\n",
      "Classified target <targets.Target object at 0x000002282F2AA7B8>, classification: 3\n",
      "sending triggers for  ['m3', 'hydrophones']\n",
      "sent message: AAAA 0 0 0 1 1 ZZZZ\n",
      "Start removal process for Target: {'pamguard': None, 'nims': 50, 'adcp': 0}\n",
      "Start removal process for Target: {'pamguard': None, 'nims': 52, 'adcp': 0}\n",
      "Start removal process for Target: {'pamguard': None, 'nims': 54, 'adcp': 0}\n",
      "Start removal process for Target: {'pamguard': None, 'nims': 51, 'adcp': 0}\n",
      "Start removal process for Target: {'pamguard': None, 'nims': 53, 'adcp': 0}\n",
      "type(neigh_ind):  <class 'numpy.ndarray'>\n",
      "neigh_ind: [array([], dtype=int64)]\n",
      "neigh_ind.tolist(): [array([], dtype=int64)]\n",
      "Classified target <targets.Target object at 0x000002282F3510B8>, classification: 3\n",
      "type(neigh_ind):  <class 'numpy.ndarray'>\n",
      "neigh_ind: [array([11, 12], dtype=int64)]\n",
      "neigh_ind.tolist(): [array([11, 12], dtype=int64)]\n",
      "Start removal process for Target: {'pamguard': None, 'nims': 5, 'adcp': 0}\n",
      "Start removal process for Target: {'pamguard': None, 'nims': 7, 'adcp': 0}\n",
      "Start removal process for Target: {'pamguard': None, 'nims': 9, 'adcp': 0}\n",
      "Start removal process for Target: {'pamguard': None, 'nims': 6, 'adcp': 0}\n",
      "Start removal process for Target: {'pamguard': None, 'nims': 8, 'adcp': 0}\n",
      "Start removal process for Target: {'pamguard': None, 'nims': 5, 'adcp': 0}\n",
      "Start removal process for Target: {'pamguard': None, 'nims': 7, 'adcp': 0}\n",
      "Start removal process for Target: {'pamguard': None, 'nims': 9, 'adcp': 0}\n",
      "Start removal process for Target: {'pamguard': None, 'nims': 6, 'adcp': 0}\n",
      "Start removal process for Target: {'pamguard': None, 'nims': 8, 'adcp': 0}\n",
      "Start removal process for Target: {'pamguard': None, 'nims': 5, 'adcp': 0}\n",
      "Start removal process for Target: {'pamguard': None, 'nims': 7, 'adcp': 0}\n",
      "Start removal process for Target: {'pamguard': None, 'nims': 9, 'adcp': 0}\n",
      "Start removal process for Target: {'pamguard': None, 'nims': 6, 'adcp': 0}\n",
      "Start removal process for Target: {'pamguard': None, 'nims': 8, 'adcp': 0}\n"
     ]
    },
    {
     "name": "stderr",
     "output_type": "stream",
     "text": [
      "Exception in thread Thread-5:\n",
      "Traceback (most recent call last):\n",
      "  File \"C:\\Users\\Emma\\Anaconda3\\lib\\threading.py\", line 914, in _bootstrap_inner\n",
      "    self.run()\n",
      "  File \"C:\\Users\\Emma\\Anaconda3\\lib\\threading.py\", line 862, in run\n",
      "    self._target(*self._args, **self._kwargs)\n",
      "  File \"C:\\Users\\Emma\\documents\\nnmrec\\AMP Interface\\data-science-incubator\\smallish\\shablona\\processor.py\", line 44, in threadFunctions\n",
      "    self.fitClassificationsAndTriggerRules()\n",
      "  File \"C:\\Users\\Emma\\documents\\nnmrec\\AMP Interface\\data-science-incubator\\smallish\\shablona\\processor.py\", line 92, in fitClassificationsAndTriggerRules\n",
      "    classification = np.squeeze(self.classifier.predict(X)).tolist()\n",
      "  File \"C:\\Users\\Emma\\documents\\nnmrec\\AMP Interface\\data-science-incubator\\smallish\\shablona\\classification.py\", line 307, in predict\n",
      "    target_space=self.target_space)\n",
      "  File \"C:\\Users\\Emma\\documents\\nnmrec\\AMP Interface\\data-science-incubator\\smallish\\shablona\\classification.py\", line 73, in classification_weights\n",
      "    weights += (1/distance) * source_weight\n",
      "ValueError: operands could not be broadcast together with shapes (0,) (2,) \n",
      "\n"
     ]
    },
    {
     "ename": "KeyboardInterrupt",
     "evalue": "",
     "output_type": "error",
     "traceback": [
      "\u001b[1;31m---------------------------------------------------------------------------\u001b[0m",
      "\u001b[1;31mKeyboardInterrupt\u001b[0m                         Traceback (most recent call last)",
      "\u001b[1;32m<ipython-input-11-1c930956af16>\u001b[0m in \u001b[0;36m<module>\u001b[1;34m()\u001b[0m\n\u001b[1;32m----> 1\u001b[1;33m \u001b[0mstage_instance\u001b[0m\u001b[1;33m.\u001b[0m\u001b[0mprocessEligibleStagedData\u001b[0m\u001b[1;33m(\u001b[0m\u001b[1;33m)\u001b[0m\u001b[1;33m\u001b[0m\u001b[0m\n\u001b[0m",
      "\u001b[1;32mC:\\Users\\Emma\\documents\\nnmrec\\AMP Interface\\data-science-incubator\\smallish\\shablona\\stage.py\u001b[0m in \u001b[0;36mprocessEligibleStagedData\u001b[1;34m(self)\u001b[0m\n\u001b[0;32m    175\u001b[0m                 exceeds_max_time = (datetime.datetime.utcnow() -\n\u001b[0;32m    176\u001b[0m                         self.target_space.get_entry_value_by_index('nims',\n\u001b[1;32m--> 177\u001b[1;33m                         self.data_queues['nims'][track_id][-1], 'timestamp')\n\u001b[0m\u001b[0;32m    178\u001b[0m                         >= datetime.timedelta(seconds=config.data_streams_classifier_triggers['nims_max_time']))\n\u001b[0;32m    179\u001b[0m                 \u001b[1;32mif\u001b[0m \u001b[0mexceeds_max_pings\u001b[0m \u001b[1;32mor\u001b[0m \u001b[0mexceeds_max_time\u001b[0m\u001b[1;33m:\u001b[0m\u001b[1;33m\u001b[0m\u001b[0m\n",
      "\u001b[1;32mC:\\Users\\Emma\\documents\\nnmrec\\AMP Interface\\data-science-incubator\\smallish\\shablona\\targets.py\u001b[0m in \u001b[0;36mget_entry_value_by_index\u001b[1;34m(self, table, index, key)\u001b[0m\n\u001b[0;32m    278\u001b[0m     \u001b[1;32mdef\u001b[0m \u001b[0mget_entry_value_by_index\u001b[0m\u001b[1;33m(\u001b[0m\u001b[0mself\u001b[0m\u001b[1;33m,\u001b[0m \u001b[0mtable\u001b[0m\u001b[1;33m,\u001b[0m \u001b[0mindex\u001b[0m\u001b[1;33m,\u001b[0m \u001b[0mkey\u001b[0m\u001b[1;33m)\u001b[0m\u001b[1;33m:\u001b[0m\u001b[1;33m\u001b[0m\u001b[0m\n\u001b[0;32m    279\u001b[0m         \u001b[1;34m\"\"\"Returns value for specific key in table entry.\"\"\"\u001b[0m\u001b[1;33m\u001b[0m\u001b[0m\n\u001b[1;32m--> 280\u001b[1;33m         \u001b[0mentry\u001b[0m \u001b[1;33m=\u001b[0m \u001b[0mself\u001b[0m\u001b[1;33m.\u001b[0m\u001b[0mget_entry_by_index\u001b[0m\u001b[1;33m(\u001b[0m\u001b[0mtable\u001b[0m\u001b[1;33m,\u001b[0m \u001b[0mindex\u001b[0m\u001b[1;33m)\u001b[0m\u001b[1;33m\u001b[0m\u001b[0m\n\u001b[0m\u001b[0;32m    281\u001b[0m         \u001b[1;32mif\u001b[0m \u001b[0mentry\u001b[0m \u001b[1;33m!=\u001b[0m \u001b[1;32mNone\u001b[0m \u001b[1;32mand\u001b[0m \u001b[0mkey\u001b[0m \u001b[1;32min\u001b[0m \u001b[0mentry\u001b[0m\u001b[1;33m:\u001b[0m\u001b[1;33m\u001b[0m\u001b[0m\n\u001b[0;32m    282\u001b[0m             \u001b[1;32mreturn\u001b[0m \u001b[0mentry\u001b[0m\u001b[1;33m.\u001b[0m\u001b[0mget\u001b[0m\u001b[1;33m(\u001b[0m\u001b[0mkey\u001b[0m\u001b[1;33m)\u001b[0m\u001b[1;33m\u001b[0m\u001b[0m\n",
      "\u001b[1;31mKeyboardInterrupt\u001b[0m: "
     ]
    }
   ],
   "source": [
    "stage_instance.processEligibleStagedData()"
   ]
  },
  {
   "cell_type": "code",
   "execution_count": 10,
   "metadata": {
    "collapsed": false
   },
   "outputs": [
    {
     "data": {
      "text/plain": [
       "{'adcp': 0,\n",
       " 'camera': [],\n",
       " 'nims': {20: [71, 94, 119, 142, 148],\n",
       "  22: [76, 103, 130, 143, 149, 154, 160, 166, 172, 178, 184, 190, 195],\n",
       "  24: [87, 111, 137, 144, 150, 156, 162, 167, 173, 179, 185, 191, 199],\n",
       "  28: [42, 64, 88, 113, 138, 145, 152, 157, 164, 169, 175, 180, 186, 193, 201],\n",
       "  31: [117, 139, 146, 153, 159, 165, 171, 176, 182, 187, 194, 202]},\n",
       " 'pamguard': []}"
      ]
     },
     "execution_count": 10,
     "metadata": {},
     "output_type": "execute_result"
    }
   ],
   "source": [
    "stage_instance.data_queues"
   ]
  },
  {
   "cell_type": "code",
   "execution_count": 12,
   "metadata": {
    "collapsed": false
   },
   "outputs": [
    {
     "data": {
      "text/plain": [
       "8"
      ]
     },
     "execution_count": 12,
     "metadata": {},
     "output_type": "execute_result"
    }
   ],
   "source": [
    "len(ts.classifier_index_to_target)"
   ]
  },
  {
   "cell_type": "code",
   "execution_count": 15,
   "metadata": {
    "collapsed": false
   },
   "outputs": [],
   "source": [
    "import numpy as np\n",
    "data = []\n",
    "for item in np.squeze(data):\n",
    "    \n",
    "    print(item)"
   ]
  },
  {
   "cell_type": "code",
   "execution_count": null,
   "metadata": {
    "collapsed": true
   },
   "outputs": [],
   "source": []
  }
 ],
 "metadata": {
  "kernelspec": {
   "display_name": "Python 3",
   "language": "python",
   "name": "python3"
  },
  "language_info": {
   "codemirror_mode": {
    "name": "ipython",
    "version": 3
   },
   "file_extension": ".py",
   "mimetype": "text/x-python",
   "name": "python",
   "nbconvert_exporter": "python",
   "pygments_lexer": "ipython3",
   "version": "3.5.1"
  }
 },
 "nbformat": 4,
 "nbformat_minor": 0
}
