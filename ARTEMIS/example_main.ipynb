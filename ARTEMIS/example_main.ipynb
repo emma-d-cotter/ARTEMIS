{
 "cells": [
  {
   "cell_type": "code",
   "execution_count": 1,
   "metadata": {
    "collapsed": false
   },
   "outputs": [],
   "source": [
    "import targets as targets\n",
    "import classification as classif\n",
    "import stage as stage\n",
    "import rules as rules\n",
    "import comms as comms\n",
    "import processor as processor\n",
    "import datetime"
   ]
  },
  {
   "cell_type": "code",
   "execution_count": 2,
   "metadata": {
    "collapsed": false
   },
   "outputs": [],
   "source": [
    "\n",
    "ts = targets.TargetSpace()"
   ]
  },
  {
   "cell_type": "code",
   "execution_count": 3,
   "metadata": {
    "collapsed": false
   },
   "outputs": [],
   "source": [
    "bc = classif.BackgroundClassifier()\n",
    "rnc = classif.RadiusNeighborsClassifier(classif.classification_weights, ts, outliers=bc)"
   ]
  },
  {
   "cell_type": "code",
   "execution_count": 4,
   "metadata": {
    "collapsed": false
   },
   "outputs": [],
   "source": [
    "send_triggers = rules.SendTriggers()"
   ]
  },
  {
   "cell_type": "code",
   "execution_count": 5,
   "metadata": {
    "collapsed": false
   },
   "outputs": [],
   "source": [
    "classification_processor = processor.ClassificationProcessor(rnc, ts, send_triggers, True)"
   ]
  },
  {
   "cell_type": "code",
   "execution_count": 6,
   "metadata": {
    "collapsed": false
   },
   "outputs": [],
   "source": [
    "stage_instance = stage.Stage(classification_processor, ts, send_triggers)"
   ]
  },
  {
   "cell_type": "code",
   "execution_count": 7,
   "metadata": {
    "collapsed": false
   },
   "outputs": [],
   "source": [
    "comms_instance = comms.InstrumentComms(stage_instance, True)"
   ]
  },
  {
   "cell_type": "code",
   "execution_count": 8,
   "metadata": {
    "collapsed": false,
    "scrolled": true
   },
   "outputs": [
    {
     "name": "stdout",
     "output_type": "stream",
     "text": [
      "np.squeeze(neigh_ind.tolist()).tolist():  []\n",
      "Classified target <targets.Target object at 0x0000000007C81588>, classification: 1\n",
      "np.squeeze(neigh_ind.tolist()).tolist():  []\n",
      "Classified target <targets.Target object at 0x0000000007C815C0>, classification: 1\n",
      "np.squeeze(neigh_ind.tolist()).tolist():  []\n",
      "Classified target <targets.Target object at 0x0000000007C81390>, classification: 3\n",
      "np.squeeze(neigh_ind.tolist()).tolist():  []\n",
      "Classified target <targets.Target object at 0x0000000007C81400>, classification: 1\n",
      "np.squeeze(neigh_ind.tolist()).tolist():  []\n",
      "Classified target <targets.Target object at 0x0000000007C81748>, classification: 3\n",
      "np.squeeze(neigh_ind.tolist()).tolist():  []\n",
      "Classified target <targets.Target object at 0x0000000007C81400>, classification: 1\n",
      "np.squeeze(neigh_ind.tolist()).tolist():  []\n",
      "Classified target <targets.Target object at 0x0000000007C81390>, classification: 3\n",
      "np.squeeze(neigh_ind.tolist()).tolist():  []\n",
      "Classified target <targets.Target object at 0x0000000007C81B00>, classification: 3\n",
      "np.squeeze(neigh_ind.tolist()).tolist():  []\n",
      "Classified target <targets.Target object at 0x0000000007C815C0>, classification: 1\n",
      "np.squeeze(neigh_ind.tolist()).tolist():  []\n",
      "Classified target <targets.Target object at 0x0000000007C81588>, classification: 1\n",
      "sending triggers for  ['hydrophones', 'm3']\n",
      "sent message: AAAA 0 0 0 1 1 ZZZZ\n",
      "np.squeeze(neigh_ind.tolist()).tolist():  []\n",
      "Classified target <targets.Target object at 0x0000000007C81748>, classification: 3\n",
      "np.squeeze(neigh_ind.tolist()).tolist():  []\n",
      "Classified target <targets.Target object at 0x0000000007C81748>, classification: 3\n",
      "np.squeeze(neigh_ind.tolist()).tolist():  []\n",
      "Classified target <targets.Target object at 0x0000000007C81CC0>, classification: 1\n",
      "np.squeeze(neigh_ind.tolist()).tolist():  []\n",
      "Classified target <targets.Target object at 0x0000000007C81588>, classification: 1\n",
      "np.squeeze(neigh_ind.tolist()).tolist():  []\n",
      "Classified target <targets.Target object at 0x0000000007C81390>, classification: 3\n",
      "np.squeeze(neigh_ind.tolist()).tolist():  []\n",
      "Classified target <targets.Target object at 0x0000000007C81D68>, classification: 1\n",
      "np.squeeze(neigh_ind.tolist()).tolist():  []\n",
      "Classified target <targets.Target object at 0x0000000007C815C0>, classification: 1\n",
      "np.squeeze(neigh_ind.tolist()).tolist():  []\n",
      "Classified target <targets.Target object at 0x0000000007C930B8>, classification: 3\n",
      "np.squeeze(neigh_ind.tolist()).tolist():  []\n",
      "Classified target <targets.Target object at 0x0000000007C81390>, classification: 3\n",
      "np.squeeze(neigh_ind.tolist()).tolist():  []\n",
      "Classified target <targets.Target object at 0x0000000007C815C0>, classification: 1\n",
      "np.squeeze(neigh_ind.tolist()).tolist():  []\n",
      "Classified target <targets.Target object at 0x0000000007C81588>, classification: 1\n",
      "np.squeeze(neigh_ind.tolist()).tolist():  []\n",
      "Classified target <targets.Target object at 0x0000000007C81D68>, classification: 1\n",
      "np.squeeze(neigh_ind.tolist()).tolist():  []\n",
      "Classified target <targets.Target object at 0x0000000007C930B8>, classification: 3\n",
      "sending triggers for  ['hydrophones', 'm3']\n",
      "sent message: AAAA 0 0 0 1 1 ZZZZ\n",
      "Start removal process for Target: {'nims': 48, 'pamguard': None, 'adcp': 0}\n"
     ]
    },
    {
     "ename": "NameError",
     "evalue": "name 'r' is not defined",
     "output_type": "error",
     "traceback": [
      "\u001b[1;31m---------------------------------------------------------------------------\u001b[0m",
      "\u001b[1;31mNameError\u001b[0m                                 Traceback (most recent call last)",
      "\u001b[1;32m<ipython-input-8-1c930956af16>\u001b[0m in \u001b[0;36m<module>\u001b[1;34m()\u001b[0m\n\u001b[1;32m----> 1\u001b[1;33m \u001b[0mstage_instance\u001b[0m\u001b[1;33m.\u001b[0m\u001b[0mprocessEligibleStagedData\u001b[0m\u001b[1;33m(\u001b[0m\u001b[1;33m)\u001b[0m\u001b[1;33m\u001b[0m\u001b[0m\n\u001b[0m",
      "\u001b[1;32mF:\\Users\\Emma Cotter\\Documents\\ARTEMIS\\ARTEMIS\\stage.py\u001b[0m in \u001b[0;36mprocessEligibleStagedData\u001b[1;34m(self)\u001b[0m\n\u001b[0;32m    192\u001b[0m                     \u001b[0mself\u001b[0m\u001b[1;33m.\u001b[0m\u001b[0mrecent_targets\u001b[0m\u001b[1;33m.\u001b[0m\u001b[0mremove\u001b[0m\u001b[1;33m(\u001b[0m\u001b[0mrecent_target\u001b[0m\u001b[1;33m)\u001b[0m\u001b[1;33m\u001b[0m\u001b[0m\n\u001b[0;32m    193\u001b[0m                     \u001b[1;31m# Processes any stage data remaining\u001b[0m\u001b[1;33m\u001b[0m\u001b[1;33m\u001b[0m\u001b[0m\n\u001b[1;32m--> 194\u001b[1;33m                     \u001b[0mr\u001b[0m\u001b[1;31m#t_nims_id = recent_target.get_entry_value('nims','id')\u001b[0m\u001b[1;33m\u001b[0m\u001b[0m\n\u001b[0m\u001b[0;32m    195\u001b[0m                     \u001b[1;31m#if self.data_queues['nims'].get(rt_nims_id):\u001b[0m\u001b[1;33m\u001b[0m\u001b[1;33m\u001b[0m\u001b[0m\n\u001b[0;32m    196\u001b[0m                     \u001b[1;31m#    new_target = self.createOrUpdateTarget(adcp=self.data_queues['adcp'],\u001b[0m\u001b[1;33m\u001b[0m\u001b[1;33m\u001b[0m\u001b[0m\n",
      "\u001b[1;31mNameError\u001b[0m: name 'r' is not defined"
     ]
    },
    {
     "name": "stdout",
     "output_type": "stream",
     "text": [
      "sending triggers for  ['hydrophones', 'm3']\n",
      "sent message: AAAA 0 0 0 1 1 ZZZZ\n"
     ]
    }
   ],
   "source": [
    "stage_instance.processEligibleStagedData()"
   ]
  },
  {
   "cell_type": "code",
   "execution_count": null,
   "metadata": {
    "collapsed": false
   },
   "outputs": [],
   "source": [
    "import sqlite3\n",
    "conn = sqlite3.connect('current_model_targets.db')\n",
    "c = conn.cursor()\n",
    "c.execute('''CREATE TABLE current_model_targets \n",
    "(id,size,zpeed,deltav,target_strength,current,time_of_day,passive_acoustics,\n",
    "source,date,classification)''')"
   ]
  },
  {
   "cell_type": "code",
   "execution_count": null,
   "metadata": {
    "collapsed": false
   },
   "outputs": [],
   "source": [
    "from config import site_name"
   ]
  },
  {
   "cell_type": "code",
   "execution_count": null,
   "metadata": {
    "collapsed": false
   },
   "outputs": [],
   "source": [
    "def update_classifier_database(c, stage_instance):\n",
    "    \"\"\"\n",
    "    Enter current model values into database (with cursor c)\n",
    "    \"\"\"\n",
    "    ident = [1] # deal with this\n",
    "    site = [site_name + '_auto']\n",
    "\n",
    "    entries = []\n",
    "    for i, feat_list in enumerate(stage_instance.target_space.tables['classifier_features']):\n",
    "        feats = stage_instance.target_space.tables['classifier_features'][i]\n",
    "        class_placeholder = [0]\n",
    "        date_placeholder = [0]\n",
    "        passive_placeholder = [0]\n",
    "        entry = tuple(ident + feats + passive_placeholder + site + date_placeholder + class_placeholder)\n",
    "        entries.append(entry)\n",
    "            \n",
    "    c.executemany(\"INSERT INTO current_model_targets VALUES (?,?,?,?,?,?,?,?,?,?,?)\", entries)"
   ]
  },
  {
   "cell_type": "code",
   "execution_count": null,
   "metadata": {
    "collapsed": false
   },
   "outputs": [],
   "source": [
    "update_classifier_database(c,stage_instance)"
   ]
  }
 ],
 "metadata": {
  "kernelspec": {
   "display_name": "Python 3",
   "language": "python",
   "name": "python3"
  },
  "language_info": {
   "codemirror_mode": {
    "name": "ipython",
    "version": 3
   },
   "file_extension": ".py",
   "mimetype": "text/x-python",
   "name": "python",
   "nbconvert_exporter": "python",
   "pygments_lexer": "ipython3",
   "version": "3.5.1"
  }
 },
 "nbformat": 4,
 "nbformat_minor": 0
}
