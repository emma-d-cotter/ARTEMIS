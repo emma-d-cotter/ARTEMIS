{
 "cells": [
  {
   "cell_type": "code",
   "execution_count": 1,
   "metadata": {
    "collapsed": false
   },
   "outputs": [],
   "source": [
    "import targets as targets\n",
    "import classification as classif\n",
    "import stage as stage\n",
    "import rules as rules\n",
    "import comms as comms\n",
    "import processor as processor\n",
    "import datetime"
   ]
  },
  {
   "cell_type": "code",
   "execution_count": 2,
   "metadata": {
    "collapsed": false
   },
   "outputs": [],
   "source": [
    "ts = targets.TargetSpace()"
   ]
  },
  {
   "cell_type": "code",
   "execution_count": 3,
   "metadata": {
    "collapsed": false
   },
   "outputs": [],
   "source": [
    "bc = classif.BackgroundClassifier()\n",
    "rnc = classif.RadiusNeighborsClassifier(classif.classification_weights, ts, outliers=bc)"
   ]
  },
  {
   "cell_type": "code",
   "execution_count": 4,
   "metadata": {
    "collapsed": false
   },
   "outputs": [],
   "source": [
    "send_triggers = rules.SendTriggers()"
   ]
  },
  {
   "cell_type": "code",
   "execution_count": 5,
   "metadata": {
    "collapsed": false
   },
   "outputs": [],
   "source": [
    "classification_processor = processor.ClassificationProcessor(rnc, ts, send_triggers, True)"
   ]
  },
  {
   "cell_type": "code",
   "execution_count": 6,
   "metadata": {
    "collapsed": false
   },
   "outputs": [],
   "source": [
    "stage_instance = stage.Stage(classification_processor, ts, send_triggers)"
   ]
  },
  {
   "cell_type": "code",
   "execution_count": 7,
   "metadata": {
    "collapsed": false
   },
   "outputs": [],
   "source": [
    "comms_instance = comms.InstrumentComms(stage_instance, True)"
   ]
  },
  {
   "cell_type": "code",
   "execution_count": null,
   "metadata": {
    "collapsed": false
   },
   "outputs": [],
   "source": [
    "#For testing, uncomment 'while True' in stage.Stage.processEligibleStagedData()\n",
    "#stage_instance.processEligibleStagedData()"
   ]
  },
  {
   "cell_type": "code",
   "execution_count": null,
   "metadata": {
    "collapsed": false
   },
   "outputs": [],
   "source": [
    "#For testing\n",
    "#stage_instance.recent_targets"
   ]
  },
  {
   "cell_type": "code",
   "execution_count": 8,
   "metadata": {
    "collapsed": false,
    "scrolled": true
   },
   "outputs": [
    {
     "name": "stdout",
     "output_type": "stream",
     "text": [
      "type:  <class 'list'>\n",
      "np.squeeze(neigh_ind.tolist()).tolist():  []\n",
      "Classified target <targets.Target object at 0x000002424A1F81D0>, classification: 1\n",
      "type:  <class 'list'>\n",
      "np.squeeze(neigh_ind.tolist()).tolist():  []\n",
      "Classified target <targets.Target object at 0x000002424A1F8128>, classification: 1\n",
      "type:  <class 'list'>\n",
      "np.squeeze(neigh_ind.tolist()).tolist():  []\n",
      "Classified target <targets.Target object at 0x000002424A1F8198>, classification: 1\n",
      "type:  <class 'list'>\n",
      "np.squeeze(neigh_ind.tolist()).tolist():  []\n",
      "Classified target <targets.Target object at 0x000002424A1F80B8>, classification: 1\n",
      "type:  <class 'list'>\n",
      "np.squeeze(neigh_ind.tolist()).tolist():  []\n",
      "Classified target <targets.Target object at 0x000002424A1F8208>, classification: 1\n",
      "type:  <class 'list'>\n",
      "np.squeeze(neigh_ind.tolist()).tolist():  []\n",
      "Classified target <targets.Target object at 0x000002424A1F8208>, classification: 1\n",
      "type:  <class 'list'>\n",
      "np.squeeze(neigh_ind.tolist()).tolist():  []\n",
      "Classified target <targets.Target object at 0x000002424A1F8198>, classification: 1\n",
      "type:  <class 'list'>\n",
      "np.squeeze(neigh_ind.tolist()).tolist():  []\n",
      "Classified target <targets.Target object at 0x000002424A1F80B8>, classification: 3\n",
      "type:  <class 'list'>\n",
      "np.squeeze(neigh_ind.tolist()).tolist():  []\n",
      "Classified target <targets.Target object at 0x000002424A1F81D0>, classification: 1\n",
      "type:  <class 'list'>\n",
      "np.squeeze(neigh_ind.tolist()).tolist():  []\n",
      "Classified target <targets.Target object at 0x000002424A1F8128>, classification: 1\n",
      "sending triggers for  ['m3', 'hydrophones']\n",
      "sent message: AAAA 0 0 0 1 1 ZZZZ\n",
      "type:  <class 'list'>\n",
      "np.squeeze(neigh_ind.tolist()).tolist():  []\n",
      "Classified target <targets.Target object at 0x000002424A1F87F0>, classification: 3\n",
      "type:  <class 'list'>\n",
      "np.squeeze(neigh_ind.tolist()).tolist():  []\n",
      "Classified target <targets.Target object at 0x000002424A1F80B8>, classification: 3\n",
      "type:  <class 'list'>\n",
      "np.squeeze(neigh_ind.tolist()).tolist():  []\n",
      "Classified target <targets.Target object at 0x000002424A1F8128>, classification: 1\n",
      "type:  <class 'list'>\n",
      "np.squeeze(neigh_ind.tolist()).tolist():  []\n",
      "Classified target <targets.Target object at 0x000002424A1F8198>, classification: 1\n",
      "type:  <class 'list'>\n",
      "np.squeeze(neigh_ind.tolist()).tolist():  []\n",
      "Classified target <targets.Target object at 0x000002424A1F81D0>, classification: 1\n",
      "type:  <class 'list'>\n",
      "np.squeeze(neigh_ind.tolist()).tolist():  []\n",
      "Classified target <targets.Target object at 0x000002424A1F87F0>, classification: 3\n",
      "type:  <class 'list'>\n",
      "np.squeeze(neigh_ind.tolist()).tolist():  []\n",
      "Classified target <targets.Target object at 0x000002424A1F8D68>, classification: 3\n",
      "type:  <class 'list'>\n",
      "np.squeeze(neigh_ind.tolist()).tolist():  []\n",
      "Classified target <targets.Target object at 0x000002424A1F8198>, classification: 1\n",
      "type:  <class 'list'>\n",
      "np.squeeze(neigh_ind.tolist()).tolist():  []\n",
      "Classified target <targets.Target object at 0x000002424A1F81D0>, classification: 1\n",
      "type:  <class 'list'>\n",
      "np.squeeze(neigh_ind.tolist()).tolist():  []\n",
      "Classified target <targets.Target object at 0x000002424A1F8128>, classification: 1\n",
      "type:  <class 'list'>\n",
      "np.squeeze(neigh_ind.tolist()).tolist():  []\n",
      "Classified target <targets.Target object at 0x000002424A1F87F0>, classification: 3\n",
      "type:  <class 'list'>\n",
      "np.squeeze(neigh_ind.tolist()).tolist():  []\n",
      "Classified target <targets.Target object at 0x000002424A1F8D68>, classification: 3\n",
      "sending triggers for  ['m3', 'hydrophones']\n",
      "sent message: AAAA 0 0 0 1 1 ZZZZ\n",
      "Start removal process for Target: {'nims': 50, 'adcp': 0, 'pamguard': None}\n",
      "Start removal process for Target: {'nims': 52, 'adcp': 0, 'pamguard': None}\n",
      "Start removal process for Target: {'nims': 54, 'adcp': 0, 'pamguard': None}\n",
      "Start removal process for Target: {'nims': 51, 'adcp': 0, 'pamguard': None}\n",
      "Start removal process for Target: {'nims': 53, 'adcp': 0, 'pamguard': None}\n",
      "type:  <class 'list'>\n",
      "np.squeeze(neigh_ind.tolist()).tolist():  []\n",
      "Classified target <targets.Target object at 0x000002424A1F85C0>, classification: 1\n",
      "type:  <class 'list'>\n",
      "np.squeeze(neigh_ind.tolist()).tolist():  [8, 9, 10, 11, 12]\n",
      "Classified target <targets.Target object at 0x000002424A1F83C8>, classification: 1\n",
      "type:  <class 'list'>\n",
      "np.squeeze(neigh_ind.tolist()).tolist():  [9, 10, 11, 12]\n",
      "Classified target <targets.Target object at 0x000002424A1F87F0>, classification: 1\n",
      "type:  <class 'list'>\n",
      "np.squeeze(neigh_ind.tolist()).tolist():  [8, 9, 10, 11, 12]\n",
      "Classified target <targets.Target object at 0x000002424A1F88D0>, classification: 1\n",
      "type:  <class 'list'>\n",
      "np.squeeze(neigh_ind.tolist()).tolist():  [9, 11]\n",
      "Classified target <targets.Target object at 0x000002424A1F8D68>, classification: 1\n",
      "type:  <class 'list'>\n",
      "np.squeeze(neigh_ind.tolist()).tolist():  [8, 9, 10, 11, 12]\n",
      "Classified target <targets.Target object at 0x000002424A1F85C0>, classification: 1\n",
      "type:  <class 'list'>\n",
      "np.squeeze(neigh_ind.tolist()).tolist():  [8, 9, 10, 11, 12]\n",
      "Classified target <targets.Target object at 0x000002424A1F83C8>, classification: 1\n",
      "Start removal process for Target: {'nims': 119, 'adcp': 0, 'pamguard': None}\n",
      "type:  <class 'list'>\n",
      "np.squeeze(neigh_ind.tolist()).tolist():  [9, 10, 11, 12]\n",
      "Classified target <targets.Target object at 0x000002424A1F8E48>, classification: 1\n",
      "type:  <class 'list'>\n",
      "np.squeeze(neigh_ind.tolist()).tolist():  [8, 9, 10, 11, 12, 13]\n",
      "Classified target <targets.Target object at 0x000002424A1F88D0>, classification: 1\n",
      "type:  <class 'list'>\n",
      "np.squeeze(neigh_ind.tolist()).tolist():  [9, 11, 13]\n",
      "Classified target <targets.Target object at 0x000002424A1F8D68>, classification: 1\n",
      "type:  <class 'list'>\n",
      "np.squeeze(neigh_ind.tolist()).tolist():  [8, 9, 10, 11, 12, 13]\n",
      "Classified target <targets.Target object at 0x000002424A1F8AC8>, classification: 1\n",
      "type:  <class 'list'>\n",
      "np.squeeze(neigh_ind.tolist()).tolist():  [8, 9, 10, 11, 12, 13]\n",
      "Classified target <targets.Target object at 0x000002424A1F83C8>, classification: 1\n",
      "type:  <class 'list'>\n",
      "np.squeeze(neigh_ind.tolist()).tolist():  [9, 11, 13]\n",
      "Classified target <targets.Target object at 0x000002424A1F8D68>, classification: 1\n",
      "type:  <class 'list'>\n",
      "np.squeeze(neigh_ind.tolist()).tolist():  [9, 10, 11, 12, 13]\n",
      "Classified target <targets.Target object at 0x000002424A1F8E48>, classification: 1\n",
      "sending triggers for  ['m3', 'hydrophones']\n",
      "sent message: AAAA 0 0 0 1 1 ZZZZ\n",
      "type:  <class 'list'>\n",
      "np.squeeze(neigh_ind.tolist()).tolist():  [8, 9, 10, 11, 12, 13]\n",
      "Classified target <targets.Target object at 0x000002424A1F88D0>, classification: 1\n",
      "Start removal process for Target: {'nims': 184, 'adcp': 0, 'pamguard': None}\n",
      "type:  <class 'list'>\n",
      "np.squeeze(neigh_ind.tolist()).tolist():  [8, 9, 10, 11, 12, 13]\n",
      "Classified target <targets.Target object at 0x000002424A1F8AC8>, classification: 1\n",
      "type:  <class 'list'>\n",
      "np.squeeze(neigh_ind.tolist()).tolist():  [8, 9, 10, 11, 12, 13, 14]\n",
      "Classified target <targets.Target object at 0x000002424A1F83C8>, classification: 1\n",
      "type:  <class 'list'>\n",
      "np.squeeze(neigh_ind.tolist()).tolist():  [8, 9, 10, 11, 12, 13, 14]\n",
      "Classified target <targets.Target object at 0x000002424A1F8A20>, classification: 1\n",
      "type:  <class 'list'>\n",
      "np.squeeze(neigh_ind.tolist()).tolist():  [9, 10, 11, 12, 13, 14]\n",
      "Classified target <targets.Target object at 0x000002424A1F8E48>, classification: 1\n",
      "type:  <class 'list'>\n",
      "np.squeeze(neigh_ind.tolist()).tolist():  [8, 9, 10, 11, 12, 13, 14]\n",
      "Classified target <targets.Target object at 0x000002424A1F88D0>, classification: 1\n",
      "type:  <class 'list'>\n",
      "np.squeeze(neigh_ind.tolist()).tolist():  [8, 9, 10, 11, 12, 13, 14]\n",
      "Classified target <targets.Target object at 0x000002424A1F8AC8>, classification: 1\n",
      "Start removal process for Target: {'nims': 5, 'adcp': 0, 'pamguard': None}\n",
      "Start removal process for Target: {'nims': 6, 'adcp': 0, 'pamguard': None}\n",
      "type:  <class 'list'>\n",
      "np.squeeze(neigh_ind.tolist()).tolist():  [8, 9, 10, 11, 12, 13, 14]\n",
      "Classified target <targets.Target object at 0x000002424A260668>, classification: 1\n",
      "type:  <class 'list'>\n",
      "np.squeeze(neigh_ind.tolist()).tolist():  [9, 10, 11, 12, 13, 14, 16]\n",
      "Classified target <targets.Target object at 0x000002424A2606D8>, classification: 1\n",
      "type:  <class 'list'>\n",
      "np.squeeze(neigh_ind.tolist()).tolist():  [9, 10, 11, 12, 13, 14, 16]\n",
      "Classified target <targets.Target object at 0x000002424A1F8E48>, classification: 1\n",
      "Start removal process for Target: {'nims': 27, 'adcp': 0, 'pamguard': None}\n",
      "type:  <class 'list'>\n",
      "np.squeeze(neigh_ind.tolist()).tolist():  [8, 9, 10, 11, 12, 13, 14, 15, 16]\n",
      "Classified target <targets.Target object at 0x000002424A260780>, classification: 1\n",
      "type:  <class 'list'>\n",
      "np.squeeze(neigh_ind.tolist()).tolist():  [9, 10, 11, 12, 13, 14, 16, 17]\n",
      "Classified target <targets.Target object at 0x000002424A2606D8>, classification: 1\n",
      "type:  <class 'list'>\n",
      "np.squeeze(neigh_ind.tolist()).tolist():  [8, 9, 10, 11, 12, 13, 14, 15, 16, 17]\n",
      "Classified target <targets.Target object at 0x000002424A1F8AC8>, classification: 1\n",
      "sending triggers for  ['m3', 'hydrophones']\n",
      "sent message: AAAA 0 0 0 1 1 ZZZZ\n",
      "type:  <class 'list'>\n",
      "np.squeeze(neigh_ind.tolist()).tolist():  [8, 9, 10, 11, 12, 13, 14, 15, 16, 17]\n",
      "Classified target <targets.Target object at 0x000002424A260668>, classification: 1\n",
      "Start removal process for Target: {'nims': 68, 'adcp': 0, 'pamguard': None}\n",
      "type:  <class 'list'>\n",
      "np.squeeze(neigh_ind.tolist()).tolist():  [9, 10, 11, 12, 13, 14, 16, 17]\n",
      "Classified target <targets.Target object at 0x000002424A260710>, classification: 1\n",
      "type:  <class 'list'>\n",
      "np.squeeze(neigh_ind.tolist()).tolist():  [8, 9, 10, 11, 12, 13, 14, 15, 16, 17, 18]\n",
      "Classified target <targets.Target object at 0x000002424A260780>, classification: 1\n",
      "Start removal process for Target: {'nims': 89, 'adcp': 0, 'pamguard': None}\n",
      "type:  <class 'list'>\n",
      "np.squeeze(neigh_ind.tolist()).tolist():  [8, 9, 10, 11, 12, 13, 14, 15, 16, 17, 18]\n",
      "Classified target <targets.Target object at 0x000002424A260AC8>, classification: 1\n",
      "type:  <class 'list'>\n",
      "np.squeeze(neigh_ind.tolist()).tolist():  [8, 9, 10, 11, 12, 13, 14, 15, 16, 17, 18, 19]\n",
      "Classified target <targets.Target object at 0x000002424A260668>, classification: 1\n",
      "type:  <class 'list'>\n",
      "np.squeeze(neigh_ind.tolist()).tolist():  [8, 9, 10, 11, 12, 13, 14, 15, 16, 17, 18, 19]\n",
      "Classified target <targets.Target object at 0x000002424A260C18>, classification: 1\n",
      "type:  <class 'list'>\n",
      "np.squeeze(neigh_ind.tolist()).tolist():  [9, 10, 11, 12, 13, 14, 16, 17, 18, 19]\n",
      "Classified target <targets.Target object at 0x000002424A260710>, classification: 1\n",
      "type:  <class 'list'>\n",
      "np.squeeze(neigh_ind.tolist()).tolist():  [8, 9, 10, 11, 12, 13, 14, 15, 16, 17, 18, 19]\n",
      "Classified target <targets.Target object at 0x000002424A260780>, classification: 1\n",
      "type:  <class 'list'>\n",
      "np.squeeze(neigh_ind.tolist()).tolist():  [8, 9, 10, 11, 12, 13, 14, 15, 16, 17, 18, 19]\n",
      "Classified target <targets.Target object at 0x000002424A260AC8>, classification: 1\n",
      "Start removal process for Target: {'nims': 134, 'adcp': 0, 'pamguard': None}\n",
      "type:  <class 'list'>\n",
      "np.squeeze(neigh_ind.tolist()).tolist():  [8, 9, 10, 11, 12, 13, 14, 15, 16, 17, 18, 19]\n",
      "Classified target <targets.Target object at 0x000002424A260668>, classification: 1\n",
      "type:  <class 'list'>\n",
      "np.squeeze(neigh_ind.tolist()).tolist():  [9, 10, 11, 12, 13, 14, 16, 17, 18, 19, 20]\n",
      "Classified target <targets.Target object at 0x000002424A260710>, classification: 1\n",
      "type:  <class 'list'>\n",
      "np.squeeze(neigh_ind.tolist()).tolist():  [8, 9, 10, 11, 12, 13, 14, 15, 16, 17, 18, 19, 20]\n",
      "Classified target <targets.Target object at 0x000002424A260780>, classification: 1\n",
      "sending triggers for  ['m3', 'hydrophones']\n",
      "sent message: AAAA 0 0 0 1 1 ZZZZ\n",
      "type:  <class 'list'>\n",
      "np.squeeze(neigh_ind.tolist()).tolist():  [8, 9, 10, 11, 12, 13, 14, 16, 17, 18, 19, 20]\n",
      "Classified target <targets.Target object at 0x000002424A260E10>, classification: 1\n",
      "type:  <class 'list'>\n",
      "np.squeeze(neigh_ind.tolist()).tolist():  [8, 9, 10, 11, 12, 13, 14, 15, 16, 17, 18, 19, 20]\n",
      "Classified target <targets.Target object at 0x000002424A260AC8>, classification: 1\n",
      "Start removal process for Target: {'nims': 6, 'adcp': 0, 'pamguard': None}\n",
      "type:  <class 'list'>\n",
      "np.squeeze(neigh_ind.tolist()).tolist():  [9, 10, 11, 12, 13, 14, 16, 17, 18, 19, 20]\n",
      "Classified target <targets.Target object at 0x000002424A260710>, classification: 1\n",
      "type:  <class 'list'>\n",
      "np.squeeze(neigh_ind.tolist()).tolist():  [8, 9, 10, 11, 12, 13, 14, 15, 16, 17, 18, 19, 20, 21]\n",
      "Classified target <targets.Target object at 0x000002424A260FD0>, classification: 1\n",
      "Start removal process for Target: {'nims': 29, 'adcp': 0, 'pamguard': None}\n",
      "Start removal process for Target: {'nims': 21, 'adcp': 0, 'pamguard': None}\n",
      "type:  <class 'list'>\n",
      "np.squeeze(neigh_ind.tolist()).tolist():  [8, 9, 10, 11, 12, 13, 14, 15, 16, 17, 18, 19, 20, 21]\n",
      "Classified target <targets.Target object at 0x000002424A1B2A58>, classification: 1\n",
      "type:  <class 'list'>\n",
      "np.squeeze(neigh_ind.tolist()).tolist():  [8, 9, 10, 11, 12, 13, 14, 16, 17, 18, 19, 20, 21, 22, 23]\n",
      "Classified target <targets.Target object at 0x000002424A260E10>, classification: 1\n",
      "type:  <class 'list'>\n",
      "np.squeeze(neigh_ind.tolist()).tolist():  [8, 9, 10, 11, 12, 13, 14, 15, 16, 17, 18, 19, 20, 21, 22, 23]\n",
      "Classified target <targets.Target object at 0x000002424A260AC8>, classification: 1\n",
      "type:  <class 'list'>\n",
      "np.squeeze(neigh_ind.tolist()).tolist():  [8, 9, 10, 11, 12, 13, 14, 15, 16, 17, 18, 19, 20, 21, 22, 23]\n",
      "Classified target <targets.Target object at 0x000002424A260FD0>, classification: 1\n",
      "type:  <class 'list'>\n",
      "np.squeeze(neigh_ind.tolist()).tolist():  [8, 9, 10, 11, 12, 13, 14, 15, 16, 17, 18, 19, 20, 21, 22, 23]\n",
      "Classified target <targets.Target object at 0x000002424A2AA0B8>, classification: 1\n",
      "Start removal process for Target: {'nims': 22, 'adcp': 0, 'pamguard': None}\n",
      "type:  <class 'list'>\n",
      "np.squeeze(neigh_ind.tolist()).tolist():  [8, 9, 10, 11, 12, 13, 14, 15, 16, 17, 18, 19, 20, 21, 22, 23]\n",
      "Classified target <targets.Target object at 0x000002424A260FD0>, classification: 1\n",
      "type:  <class 'list'>\n",
      "np.squeeze(neigh_ind.tolist()).tolist():  [8, 9, 10, 11, 12, 13, 14, 15, 16, 17, 18, 19, 20, 21, 22, 23, 24]\n",
      "Classified target <targets.Target object at 0x000002424A1B2A58>, classification: 1\n",
      "type:  <class 'list'>\n",
      "np.squeeze(neigh_ind.tolist()).tolist():  [8, 9, 10, 11, 12, 13, 14, 16, 17, 18, 19, 20, 21, 22, 23, 24]\n",
      "Classified target <targets.Target object at 0x000002424A260E10>, classification: 1\n",
      "Start removal process for Target: {'nims': 36, 'adcp': 0, 'pamguard': None}\n",
      "type:  <class 'list'>\n",
      "np.squeeze(neigh_ind.tolist()).tolist():  [8, 9, 10, 11, 12, 13, 14, 15, 16, 17, 18, 19, 20, 21, 22, 23, 24]\n",
      "Classified target <targets.Target object at 0x000002424A2AA128>, classification: 1\n"
     ]
    },
    {
     "ename": "KeyboardInterrupt",
     "evalue": "",
     "output_type": "error",
     "traceback": [
      "\u001b[1;31m---------------------------------------------------------------------------\u001b[0m",
      "\u001b[1;31mKeyboardInterrupt\u001b[0m                         Traceback (most recent call last)",
      "\u001b[1;32m<ipython-input-8-1c930956af16>\u001b[0m in \u001b[0;36m<module>\u001b[1;34m()\u001b[0m\n\u001b[1;32m----> 1\u001b[1;33m \u001b[0mstage_instance\u001b[0m\u001b[1;33m.\u001b[0m\u001b[0mprocessEligibleStagedData\u001b[0m\u001b[1;33m(\u001b[0m\u001b[1;33m)\u001b[0m\u001b[1;33m\u001b[0m\u001b[0m\n\u001b[0m",
      "\u001b[1;32mC:\\Users\\Emma\\documents\\NNMREC\\AMP Interface\\ARTEMIS\\ARTEMIS\\stage.py\u001b[0m in \u001b[0;36mprocessEligibleStagedData\u001b[1;34m(self)\u001b[0m\n\u001b[0;32m    176\u001b[0m                         self.target_space.get_entry_value_by_index('nims',\n\u001b[0;32m    177\u001b[0m                         self.data_queues['nims'][track_id][-1], 'timestamp')\n\u001b[1;32m--> 178\u001b[1;33m                         >= datetime.timedelta(seconds=config.data_streams_classifier_triggers['nims_max_time']))\n\u001b[0m\u001b[0;32m    179\u001b[0m                 \u001b[1;32mif\u001b[0m \u001b[0mexceeds_max_pings\u001b[0m \u001b[1;32mor\u001b[0m \u001b[0mexceeds_max_time\u001b[0m\u001b[1;33m:\u001b[0m\u001b[1;33m\u001b[0m\u001b[0m\n\u001b[0;32m    180\u001b[0m                     target = self.createOrUpdateTarget(nims=(track_id, self.data_queues['nims'][track_id]),\n",
      "\u001b[1;31mKeyboardInterrupt\u001b[0m: "
     ]
    }
   ],
   "source": [
    "stage_instance.processEligibleStagedData()"
   ]
  },
  {
   "cell_type": "code",
   "execution_count": 17,
   "metadata": {
    "collapsed": false
   },
   "outputs": [
    {
     "data": {
      "text/plain": [
       "{'adcp': [[datetime.datetime(2016, 5, 16, 11, 43, 5), 1.2, 4.5]],\n",
       " 'camera': [],\n",
       " 'classifier_classifications': ['1.1',\n",
       "  '1.2',\n",
       "  '1.1',\n",
       "  '1.2',\n",
       "  '1.2',\n",
       "  '1.2',\n",
       "  '1.2',\n",
       "  '1.1'],\n",
       " 'classifier_features': [[0.3333333333333333,\n",
       "   0.4,\n",
       "   0.75,\n",
       "   0.02666666666666667,\n",
       "   0.25,\n",
       "   1.75],\n",
       "  [2.3333333333333335,\n",
       "   1.2,\n",
       "   1.25,\n",
       "   0.02666666666666667,\n",
       "   0.08333333333333333,\n",
       "   1.25],\n",
       "  [0.5, 0.4, 0.75, 0.02666666666666667, 0.25, 1.75],\n",
       "  [2.3333333333333335,\n",
       "   1.2,\n",
       "   1.25,\n",
       "   0.02666666666666667,\n",
       "   0.08333333333333333,\n",
       "   1.25],\n",
       "  [2.3333333333333335,\n",
       "   1.2,\n",
       "   1.25,\n",
       "   0.02666666666666667,\n",
       "   0.09166666666666667,\n",
       "   1.275],\n",
       "  [2.3333333333333335,\n",
       "   1.2,\n",
       "   1.25,\n",
       "   0.02666666666666667,\n",
       "   0.08750000000000001,\n",
       "   1.25],\n",
       "  [0.5, 0.44000000000000006, 0.775, 0.02666666666666667, 0.25, 1.75],\n",
       "  [0.5, 0.4, 0.75, 0.02666666666666667, 0.20833333333333334, 1.75]],\n",
       " 'nims': [],\n",
       " 'pamguard': []}"
      ]
     },
     "execution_count": 17,
     "metadata": {},
     "output_type": "execute_result"
    }
   ],
   "source": [
    "stage_instance.target_space.tables"
   ]
  },
  {
   "cell_type": "code",
   "execution_count": 13,
   "metadata": {
    "collapsed": false
   },
   "outputs": [
    {
     "name": "stderr",
     "output_type": "stream",
     "text": [
      "Exception in thread Thread-6:\n",
      "Traceback (most recent call last):\n",
      "  File \"C:\\Users\\Emma\\Anaconda3\\lib\\threading.py\", line 914, in _bootstrap_inner\n",
      "    self.run()\n",
      "  File \"C:\\Users\\Emma\\Anaconda3\\lib\\threading.py\", line 862, in run\n",
      "    self._target(*self._args, **self._kwargs)\n",
      "  File \"C:\\Users\\Emma\\Documents\\NNMREC\\AMP Interface\\data-science-incubator\\ARTEMIS\\ARTEMIS\\comms_NIMS_sim.py\", line 48, in read_tracks\n",
      "    s.connect((host, port))\n",
      "ConnectionRefusedError: [WinError 10061] No connection could be made because the target machine actively refused it\n",
      "\n",
      "ERROR: An unexpected error occurred while tokenizing input\n",
      "The following traceback may be corrupted or invalid\n",
      "The error message is: ('EOF in multi-line string', (1, 27))\n",
      "\n"
     ]
    },
    {
     "ename": "OperationalError",
     "evalue": "table current_model_targets already exists",
     "output_type": "error",
     "traceback": [
      "\u001b[1;31m---------------------------------------------------------------------------\u001b[0m",
      "\u001b[1;31mOperationalError\u001b[0m                          Traceback (most recent call last)",
      "\u001b[1;32m<ipython-input-13-130fbedfaba3>\u001b[0m in \u001b[0;36m<module>\u001b[1;34m()\u001b[0m\n\u001b[0;32m      4\u001b[0m c.execute('''CREATE TABLE current_model_targets \n\u001b[0;32m      5\u001b[0m (id,size,zpeed,deltav,target_strength,current,time_of_day,passive_acoustics,\n\u001b[1;32m----> 6\u001b[1;33m source,date,classification)''')\n\u001b[0m",
      "\u001b[1;31mOperationalError\u001b[0m: table current_model_targets already exists"
     ]
    }
   ],
   "source": [
    "import sqlite3\n",
    "conn = sqlite3.connect('current_model_targets.db')\n",
    "c = conn.cursor()\n",
    "c.execute('''CREATE TABLE current_model_targets \n",
    "(id,size,zpeed,deltav,target_strength,current,time_of_day,passive_acoustics,\n",
    "source,date,classification)''')"
   ]
  },
  {
   "cell_type": "code",
   "execution_count": 14,
   "metadata": {
    "collapsed": false
   },
   "outputs": [],
   "source": [
    "from config import site_name"
   ]
  },
  {
   "cell_type": "code",
   "execution_count": 15,
   "metadata": {
    "collapsed": false
   },
   "outputs": [],
   "source": [
    "def update_classifier_database(c, stage_instance):\n",
    "    \"\"\"\n",
    "    Enter current model values into database (with cursor c)\n",
    "    \"\"\"\n",
    "    ident = [1] # deal with this\n",
    "    site = [site_name + '_auto']\n",
    "\n",
    "    entries = []\n",
    "    for i, feat_list in enumerate(stage_instance.target_space.tables['classifier_features']):\n",
    "        feats = stage_instance.target_space.tables['classifier_features'][i]\n",
    "        class_placeholder = [0]\n",
    "        date_placeholder = [0]\n",
    "        passive_placeholder = [0]\n",
    "        entry = tuple(ident + feats + passive_placeholder + site + date_placeholder + class_placeholder)\n",
    "        entries.append(entry)\n",
    "            \n",
    "    c.executemany(\"INSERT INTO current_model_targets VALUES (?,?,?,?,?,?,?,?,?,?,?)\", entries)"
   ]
  },
  {
   "cell_type": "code",
   "execution_count": 16,
   "metadata": {
    "collapsed": false
   },
   "outputs": [
    {
     "name": "stdout",
     "output_type": "stream",
     "text": [
      "[(1, 0.3333333333333333, 0.4, 0.75, 0.02666666666666667, 0.25, 1.75, 0, 'MSL_auto', 0, 0), (1, 2.3333333333333335, 1.2, 1.25, 0.02666666666666667, 0.08333333333333333, 1.25, 0, 'MSL_auto', 0, 0), (1, 0.5, 0.4, 0.75, 0.02666666666666667, 0.25, 1.75, 0, 'MSL_auto', 0, 0), (1, 2.3333333333333335, 1.2, 1.25, 0.02666666666666667, 0.08333333333333333, 1.25, 0, 'MSL_auto', 0, 0), (1, 2.3333333333333335, 1.2, 1.25, 0.02666666666666667, 0.09166666666666667, 1.275, 0, 'MSL_auto', 0, 0), (1, 2.3333333333333335, 1.2, 1.25, 0.02666666666666667, 0.08750000000000001, 1.25, 0, 'MSL_auto', 0, 0), (1, 0.5, 0.44000000000000006, 0.775, 0.02666666666666667, 0.25, 1.75, 0, 'MSL_auto', 0, 0), (1, 0.5, 0.4, 0.75, 0.02666666666666667, 0.20833333333333334, 1.75, 0, 'MSL_auto', 0, 0)]\n"
     ]
    }
   ],
   "source": [
    "update_classifier_database(c,stage_instance)"
   ]
  },
  {
   "cell_type": "code",
   "execution_count": 65,
   "metadata": {
    "collapsed": false
   },
   "outputs": [],
   "source": [
    "a = [4,2,3]"
   ]
  },
  {
   "cell_type": "code",
   "execution_count": 66,
   "metadata": {
    "collapsed": false
   },
   "outputs": [
    {
     "data": {
      "text/plain": [
       "(4, 2, 3)"
      ]
     },
     "execution_count": 66,
     "metadata": {},
     "output_type": "execute_result"
    }
   ],
   "source": [
    "tuple(a)"
   ]
  },
  {
   "cell_type": "code",
   "execution_count": 68,
   "metadata": {
    "collapsed": false
   },
   "outputs": [
    {
     "name": "stdout",
     "output_type": "stream",
     "text": [
      "0\n",
      "1\n",
      "2\n"
     ]
    }
   ],
   "source": [
    "for i,it in enumerate(a):\n",
    "    print(i)"
   ]
  },
  {
   "cell_type": "code",
   "execution_count": null,
   "metadata": {
    "collapsed": true
   },
   "outputs": [],
   "source": []
  }
 ],
 "metadata": {
  "kernelspec": {
   "display_name": "Python 3",
   "language": "python",
   "name": "python3"
  },
  "language_info": {
   "codemirror_mode": {
    "name": "ipython",
    "version": 3
   },
   "file_extension": ".py",
   "mimetype": "text/x-python",
   "name": "python",
   "nbconvert_exporter": "python",
   "pygments_lexer": "ipython3",
   "version": "3.5.1"
  }
 },
 "nbformat": 4,
 "nbformat_minor": 0
}
