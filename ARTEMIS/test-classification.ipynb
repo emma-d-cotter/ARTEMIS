{
 "cells": [
  {
   "cell_type": "code",
   "execution_count": 1,
   "metadata": {
    "collapsed": true
   },
   "outputs": [],
   "source": [
    "import numpy as np"
   ]
  },
  {
   "cell_type": "code",
   "execution_count": null,
   "metadata": {
    "collapsed": false
   },
   "outputs": [],
   "source": [
    "os.path.isfile('./current_model_targets.csv')"
   ]
  },
  {
   "cell_type": "code",
   "execution_count": null,
   "metadata": {
    "collapsed": false
   },
   "outputs": [],
   "source": [
    "print(a)"
   ]
  },
  {
   "cell_type": "code",
   "execution_count": null,
   "metadata": {
    "collapsed": false
   },
   "outputs": [],
   "source": [
    "print(indices)"
   ]
  },
  {
   "cell_type": "code",
   "execution_count": 16,
   "metadata": {
    "collapsed": false
   },
   "outputs": [],
   "source": [
    "from enum import Enum\n",
    "import numpy as np\n",
    "from sklearn.neighbors import NearestNeighbors\n",
    "from datetime import datetime\n",
    "import os.path\n",
    "import csv\n",
    "\n",
    "#class Classes(Enum):\n",
    " #   Interesting = 1.1\n",
    "#  NotInteresting = 1.2\n",
    "\n",
    "   # FastLarge = 2.1\n",
    "    #FastSmall = 2.2\n",
    "    #SlowLarge = 2.3\n",
    "    #SlowSmall = 2.4\n",
    "\n",
    "    # SchoolOfFish = 3.1\n",
    "    # SingleFish = 3.2\n",
    "    # Kelp = 3.3\n",
    "    # DolphinOrPorpoise = 3.4\n",
    "\n",
    "class DetectedTarget:\n",
    "\n",
    "    features_label = [\"\",\"\",\"\",\"\",\"\",\"\",\"\",\"\"]\n",
    "\n",
    "    def __init__(self, features=[], source=\"Unknown\", date=datetime.now(), classification=None):\n",
    "        self.features = features\n",
    "        self.source = source\n",
    "        self.date = date\n",
    "        self.classification = classification\n",
    "\n",
    "class weightedNeighbors:\n",
    "\n",
    "    def __init__(self,radius=4.0):\n",
    "\n",
    "        # Global variables\n",
    "        self.INITIAL_RADIUS = radius\n",
    "        self.SIZE_FEATURE_WEIGHT = 1.0\n",
    "        self.SPEED_FEATURE_WEIGHT = 1.0\n",
    "        self.SPEED_RELATIVE_TO_CURRENT_FEATURE_WEIGHT = 1.0\n",
    "        self.TARGET_STRENGTH_FEATURE_WEIGHT = 1.0\n",
    "        self.CURRENT_SPEED_FEATURE_WEIGHT = 1.0\n",
    "        self.TIME_OF_DAY_FEATURE_WEIGHT = 1.0\n",
    "        self.PASSIVE_ACOUSTICS_FEATURE_WEIGHT = 1.0\n",
    "        self.RADIUS_INCREMENT = 0.1 # increment for expanding radius\n",
    "        self.DISTANCE_THRESHOLD = 0.01 # distance threshold for determing if two points near equidistant\n",
    "\n",
    "        # load current model and initialize NearestNeighbors model\n",
    "        self.current_model_targets = self.load_detectedTargets()\n",
    "        self.model =  NearestNeighbors(radius=self.INITIAL_RADIUS)\n",
    "\n",
    "    def load_detectedTargets(self):\n",
    "        '''\n",
    "        Load existing targets from current_model_targets.csv\n",
    "        '''\n",
    "\n",
    "        current_model_targets = []\n",
    "\n",
    "        if os.path.isfile('current_model_targets.csv'):\n",
    "            current_model_targets = []\n",
    "            with open('current_model_targets.csv', 'r') as f:\n",
    "                reader = csv.reader(f,delimiter = \";\")\n",
    "                next(reader,None)\n",
    "                for target in reader:\n",
    "                    current_model_targets.append( DetectedTarget(\n",
    "                            features=list(map(float,list(target[1:8]))), source=target[8], date=target[10],\n",
    "                            classification=float(target[-1])))\n",
    "            #print(current_model_targets[0].features)\n",
    "        else:\n",
    "            print('No existing targets for model')\n",
    "\n",
    "        return current_model_targets\n",
    "\n",
    "    def fitModel(self):\n",
    "        '''\n",
    "        Fit current model targets to model\n",
    "        '''\n",
    "        self.model.fit(np.array(list(map(lambda x: x.features, self.current_model_targets))))\n",
    "\n",
    "    def determine_weights(self,indices):\n",
    "        '''\n",
    "        This function will return the weights of points with the desired indices\n",
    "        '''\n",
    "        pass\n",
    "        return np.ones(indices[0].shape)\n",
    "\n",
    "\n",
    "    def classify(self,newPoint):\n",
    "        '''\n",
    "        Predict class of new target detection(s)\n",
    "        '''\n",
    "        x = self.RADIUS_INCREMENT\n",
    "        d = self.DISTANCE_THRESHOLD\n",
    "        r = self.INITIAL_RADIUS\n",
    "\n",
    "        existingClasses = np.array(list(map(lambda x: x.classification, self.current_model_targets)))\n",
    "  \n",
    "        distances,indices = self.model.radius_neighbors(newPoint)\n",
    "\n",
    "        # if there are no points in the radius, expand radius by x and check again before classifying point.\n",
    "        if indices[0].shape==0 or indices[0].shape==1:\n",
    "            self.model.radius = r+x\n",
    "            distances,indices = self.model.radius_neighbors(newPoint)\n",
    "\n",
    "        # else if there are two points from different classes that are close to the same distance\n",
    "        # (within distance threshold), expand radius to see if there is another very close point\n",
    "        elif indices[0].shape ==2 and existingClasses[list(indices[0])[0]]!=existingClasses[list(indices[0])[1]]:\n",
    "            if abs(distances[0]-distances[1]) <= d & existingClasses[0]!=existingClasses[1]:\n",
    "                self.model.radius = r+x\n",
    "                distances,indices = self.model.radius_neighbors(newPoint)\n",
    "                \n",
    "        print(indices)\n",
    "\n",
    "        # predict class of new data\n",
    "        if len(indices)!=0:\n",
    "            # calculate weights (arbitrary weights for now)\n",
    "            weights = self.determine_weights(indices)\n",
    "            #print(weights)\n",
    "            \n",
    "            # sum weights for each class\n",
    "            classes = existingClasses[list(indices)]\n",
    "            classes = np.unique(classes[np.where(classes!=0)])  # ignore zero class (outliers)\n",
    "            \n",
    "            classWeight = np.array([]) # initialize weight array\n",
    "\n",
    "            for i,cl in enumerate(classes):\n",
    "                \n",
    "                classWeight = np.append(classWeight,sum(weights[np.where(classes==cl)]))    \n",
    "            \n",
    "            newClass = classes[np.argmax(classWeight)]\n",
    "            print('newclass',newClass)\n",
    "            print('classweight',classWeight)\n",
    "             \n",
    "        else:\n",
    "            newClass = 0\n",
    "\n",
    "        return(newClass,indices)\n"
   ]
  },
  {
   "cell_type": "code",
   "execution_count": 17,
   "metadata": {
    "collapsed": false
   },
   "outputs": [
    {
     "data": {
      "text/plain": [
       "[1.0, 2.0, 3.0, 4.0, 5.0, 6.0, 7.0]"
      ]
     },
     "execution_count": 17,
     "metadata": {},
     "output_type": "execute_result"
    }
   ],
   "source": [
    "neigh = weightedNeighbors(radius = 1)\n",
    "neigh.current_model_targets[0].features\n",
    "#neigh.fitModel()\n",
    "#newClass, indices = neigh.classify(np.array([1.5,2,3,4,5,5,7],ndmin=2))"
   ]
  },
  {
   "cell_type": "code",
   "execution_count": 6,
   "metadata": {
    "collapsed": false
   },
   "outputs": [
    {
     "data": {
      "text/plain": [
       "1.1000000000000001"
      ]
     },
     "execution_count": 6,
     "metadata": {},
     "output_type": "execute_result"
    }
   ],
   "source": [
    "newClass"
   ]
  },
  {
   "cell_type": "code",
   "execution_count": 128,
   "metadata": {
    "collapsed": false
   },
   "outputs": [
    {
     "data": {
      "text/plain": [
       "[2, 6, 7]"
      ]
     },
     "execution_count": 128,
     "metadata": {},
     "output_type": "execute_result"
    }
   ],
   "source": [
    "list(indices[0])"
   ]
  },
  {
   "cell_type": "code",
   "execution_count": 67,
   "metadata": {
    "collapsed": false
   },
   "outputs": [
    {
     "data": {
      "text/plain": [
       "array([4, 5])"
      ]
     },
     "execution_count": 67,
     "metadata": {},
     "output_type": "execute_result"
    }
   ],
   "source": []
  },
  {
   "cell_type": "code",
   "execution_count": null,
   "metadata": {
    "collapsed": true
   },
   "outputs": [],
   "source": []
  }
 ],
 "metadata": {
  "kernelspec": {
   "display_name": "Python 3",
   "language": "python",
   "name": "python3"
  },
  "language_info": {
   "codemirror_mode": {
    "name": "ipython",
    "version": 3
   },
   "file_extension": ".py",
   "mimetype": "text/x-python",
   "name": "python",
   "nbconvert_exporter": "python",
   "pygments_lexer": "ipython3",
   "version": "3.5.1"
  }
 },
 "nbformat": 4,
 "nbformat_minor": 0
}
